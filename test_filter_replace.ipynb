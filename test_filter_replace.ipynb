{
 "cells": [
  {
   "cell_type": "code",
   "execution_count": null,
   "id": "05a772e8",
   "metadata": {},
   "outputs": [],
   "source": [
    "# For testing only, all black pixels must be recorded and on the to put the white, green from the other images,\n",
    "# without using a cycle\n",
    "import numpy as np\n",
    "import cv2\n",
    "from ciirc_utils import showimage, resize, dilate"
   ]
  },
  {
   "cell_type": "code",
   "execution_count": null,
   "id": "17b5f127",
   "metadata": {},
   "outputs": [],
   "source": [
    "img_replaced[np.all(img == orig, axis=-1)] = new"
   ]
  },
  {
   "cell_type": "code",
   "execution_count": null,
   "id": "8efe2693",
   "metadata": {},
   "outputs": [],
   "source": [
    "def replace_colors(img, colortable):\n",
    "    img_replaced = img.copy()\n",
    "    for orig, new in colortable:\n",
    "        img_replaced[np.all(img == orig, axis=-1)] = new\n",
    "    return img_replaced"
   ]
  }
 ],
 "metadata": {
  "kernelspec": {
   "display_name": "Python 3",
   "language": "python",
   "name": "python3"
  },
  "language_info": {
   "codemirror_mode": {
    "name": "ipython",
    "version": 3
   },
   "file_extension": ".py",
   "mimetype": "text/x-python",
   "name": "python",
   "nbconvert_exporter": "python",
   "pygments_lexer": "ipython3",
   "version": "3.8.10"
  }
 },
 "nbformat": 4,
 "nbformat_minor": 5
}
