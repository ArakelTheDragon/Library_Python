{
 "cells": [
  {
   "cell_type": "code",
   "execution_count": 14,
   "id": "3fc9d0a3",
   "metadata": {},
   "outputs": [],
   "source": [
    "#Library includes\n",
    "import matplotlib.pyplot as plt\n",
    "import matplotlib.image as mpimg\n",
    "from matplotlib.pyplot import imshow, figure\n",
    "import numpy as np\n",
    "from scipy import ndimage, misc\n",
    "import scipy.ndimage\n",
    "#import scipy.ndimage as scipy\n",
    "from PIL import Image\n",
    "import cv2\n",
    "import math\n",
    "import os\n",
    "import glob\n",
    "#from pylsd import lsd\n",
    "import sys,\n",
    "from ciirc_utils import resize, grayscale, showimage, dilate, gaussian_blur, threshold\n",
    "%matplotlib inline\n",
    "\n",
    "# Global variables"
   ]
  },
  {
   "cell_type": "code",
   "execution_count": 15,
   "id": "1215ec4c",
   "metadata": {},
   "outputs": [
    {
     "data": {
      "text/plain": [
       "['utm_00001.jpg', 'canny1.jpg', 'utm_00000.mask.png']"
      ]
     },
     "execution_count": 15,
     "metadata": {},
     "output_type": "execute_result"
    }
   ],
   "source": [
    "os.listdir(\"images/\")"
   ]
  },
  {
   "cell_type": "code",
   "execution_count": 16,
   "id": "d0efcc1b",
   "metadata": {},
   "outputs": [],
   "source": [
    "#reading in an image\n",
    "input_images = [cv2.imread(img_path)  for img_path in glob.glob(\"images/*\")]"
   ]
  },
  {
   "cell_type": "code",
   "execution_count": 17,
   "id": "c80b57ba",
   "metadata": {},
   "outputs": [
    {
     "data": {
      "image/png": "[encoded data removed]",
      "text/plain": [
       "<Figure size 864x864 with 1 Axes>"
      ]
     },
     "metadata": {
      "needs_background": "light"
     },
     "output_type": "display_data"
    }
   ],
   "source": [
    "grayscaled_image = grayscale(input_images[2])\n",
    "resized_image = resize(grayscaled_image, (200, 200))\n",
    "dilated_image = dilate(resized_image)\n",
    "showimage(dilated_image, cmap = \"gray\")"
   ]
  },
  {
   "cell_type": "code",
   "execution_count": null,
   "id": "1fc3e2b7",
   "metadata": {},
   "outputs": [],
   "source": []
  },
  {
   "cell_type": "code",
   "execution_count": null,
   "id": "f7028399",
   "metadata": {},
   "outputs": [],
   "source": []
  },
  {
   "cell_type": "code",
   "execution_count": null,
   "id": "08c94ac8",
   "metadata": {},
   "outputs": [],
   "source": []
  },
  {
   "cell_type": "code",
   "execution_count": null,
   "id": "b243f9eb",
   "metadata": {},
   "outputs": [],
   "source": []
  }
 ],
 "metadata": {
  "kernelspec": {
   "display_name": "Python 3",
   "language": "python",
   "name": "python3"
  },
  "language_info": {
   "codemirror_mode": {
    "name": "ipython",
    "version": 3
   },
   "file_extension": ".py",
   "mimetype": "text/x-python",
   "name": "python",
   "nbconvert_exporter": "python",
   "pygments_lexer": "ipython3",
   "version": "3.8.10"
  }
 },
 "nbformat": 4,
 "nbformat_minor": 5
}
