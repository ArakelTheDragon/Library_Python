{
 "cells": [
  {
   "cell_type": "code",
   "execution_count": 28,
   "id": "c5b735d6",
   "metadata": {},
   "outputs": [
    {
     "data": {
      "text/plain": [
       "['utm_00001.jpg', 'canny1.jpg']"
      ]
     },
     "execution_count": 28,
     "metadata": {},
     "output_type": "execute_result"
    }
   ],
   "source": [
    "#Library includes\n",
    "import matplotlib.pyplot as plt\n",
    "import matplotlib.image as mpimg\n",
    "from matplotlib.pyplot import imshow, figure\n",
    "import numpy as np\n",
    "from scipy import ndimage, misc\n",
    "import scipy.ndimage\n",
    "#import scipy.ndimage as scipy\n",
    "from PIL import Image\n",
    "import cv2\n",
    "import math\n",
    "import os\n",
    "import glob\n",
    "from pylsd import lsd\n",
    "import sys\n",
    "import pylsd\n",
    "%matplotlib inline\n",
    "\n",
    "# Global variables\n",
    "#gray_scale_images = \"/home/yordan/devel/python.assignments/notebooks\"\n",
    "source_directory = \"images\"\n",
    "output_directory = \"image_output\"\n",
    "# Global variables for the laplace function\n",
    "ddepth = cv2.CV_16S\n",
    "kernel_size = 3\n",
    "\n",
    "os.listdir(\"images/\")"
   ]
  },
  {
   "cell_type": "code",
   "execution_count": 44,
   "id": "1d14b030",
   "metadata": {},
   "outputs": [],
   "source": [
    "def lsdWrap(img, LSD=None, **kwargs):\n",
    "    '''\n",
    "    Opencv implementation of\n",
    "    Rafael Grompone von Gioi, Jérémie Jakubowicz, Jean-Michel Morel, and Gregory Randall,\n",
    "    LSD: a Line Segment Detector, Image Processing On Line, vol. 2012.\n",
    "    [Rafael12] http://www.ipol.im/pub/art/2012/gjmr-lsd/?utm_source=doi\n",
    "    @img\n",
    "        input image\n",
    "    @LSD\n",
    "        Constructing by cv2.createLineSegmentDetector\n",
    "        https://docs.opencv.org/3.0-beta/modules/imgproc/doc/feature_detection.html#linesegmentdetector\n",
    "        if LSD is given, kwargs will be ignored\n",
    "    @kwargs\n",
    "        is used to construct LSD\n",
    "        work only if @LSD is not given\n",
    "    '''\n",
    "    if LSD is None:\n",
    "        print(dir (cv2.face))\n",
    "        recognizer = cv2.face.LBPHFaceRecognizer_create()\n",
    "        LSD = cv2.FastLineDetector(**kwargs)\n",
    "\n",
    "    if len(img.shape) == 3:\n",
    "        img = cv2.cvtColor(img, cv2.COLOR_RGB2GRAY)\n",
    "\n",
    "    lines, width, prec, nfa = LSD.detect(img)\n",
    "    if lines is None:\n",
    "        return np.zeros_like(img), np.array([])\n",
    "    edgeMap = LSD.drawSegments(np.zeros_like(img), lines)[..., -1]\n",
    "    lines = np.squeeze(lines, 1)\n",
    "    edgeList = np.concatenate([lines, width, prec, nfa], 1)\n",
    "    return edgeMap, edgeList "
   ]
  },
  {
   "cell_type": "code",
   "execution_count": 45,
   "id": "90160e34",
   "metadata": {},
   "outputs": [],
   "source": [
    "#reading in an image\n",
    "input_images = [cv2.imread(img_path)  for img_path in glob.glob(\"images/*\")]"
   ]
  },
  {
   "cell_type": "code",
   "execution_count": 46,
   "id": "5a8983e1",
   "metadata": {},
   "outputs": [],
   "source": [
    "def showimage(img, cmap=None):\n",
    "    figure(figsize=[12,12])\n",
    "    imshow(np.asarray(img), cmap=cmap)"
   ]
  },
  {
   "cell_type": "code",
   "execution_count": 47,
   "id": "6462c87b",
   "metadata": {},
   "outputs": [
    {
     "ename": "AttributeError",
     "evalue": "module 'cv2.cv2' has no attribute 'face'",
     "output_type": "error",
     "traceback": [
      "\u001b[0;31m--------------------------------------------------\u001b[0m",
      "\u001b[0;31mAttributeError\u001b[0m   Traceback (most recent call last)",
      "\u001b[0;32m<ipython-input-47-c1a308d86ff8>\u001b[0m in \u001b[0;36m<module>\u001b[0;34m\u001b[0m\n\u001b[0;32m----> 1\u001b[0;31m \u001b[0mlsd_image\u001b[0m \u001b[0;34m=\u001b[0m \u001b[0mlsdWrap\u001b[0m\u001b[0;34m(\u001b[0m\u001b[0minput_images\u001b[0m\u001b[0;34m[\u001b[0m\u001b[0;36m0\u001b[0m\u001b[0;34m]\u001b[0m\u001b[0;34m)\u001b[0m\u001b[0;34m\u001b[0m\u001b[0;34m\u001b[0m\u001b[0m\n\u001b[0m\u001b[1;32m      2\u001b[0m \u001b[0mshowimage\u001b[0m\u001b[0;34m(\u001b[0m\u001b[0mlsd_image\u001b[0m\u001b[0;34m)\u001b[0m\u001b[0;34m\u001b[0m\u001b[0;34m\u001b[0m\u001b[0m\n",
      "\u001b[0;32m<ipython-input-44-7ce3b925e020>\u001b[0m in \u001b[0;36mlsdWrap\u001b[0;34m(img, LSD, **kwargs)\u001b[0m\n\u001b[1;32m     16\u001b[0m     '''\n\u001b[1;32m     17\u001b[0m     \u001b[0;32mif\u001b[0m \u001b[0mLSD\u001b[0m \u001b[0;32mis\u001b[0m \u001b[0;32mNone\u001b[0m\u001b[0;34m:\u001b[0m\u001b[0;34m\u001b[0m\u001b[0;34m\u001b[0m\u001b[0m\n\u001b[0;32m---> 18\u001b[0;31m         \u001b[0mprint\u001b[0m\u001b[0;34m(\u001b[0m\u001b[0mdir\u001b[0m \u001b[0;34m(\u001b[0m\u001b[0mcv2\u001b[0m\u001b[0;34m.\u001b[0m\u001b[0mface\u001b[0m\u001b[0;34m)\u001b[0m\u001b[0;34m)\u001b[0m\u001b[0;34m\u001b[0m\u001b[0;34m\u001b[0m\u001b[0m\n\u001b[0m\u001b[1;32m     19\u001b[0m         \u001b[0mrecognizer\u001b[0m \u001b[0;34m=\u001b[0m \u001b[0mcv2\u001b[0m\u001b[0;34m.\u001b[0m\u001b[0mface\u001b[0m\u001b[0;34m.\u001b[0m\u001b[0mLBPHFaceRecognizer_create\u001b[0m\u001b[0;34m(\u001b[0m\u001b[0;34m)\u001b[0m\u001b[0;34m\u001b[0m\u001b[0;34m\u001b[0m\u001b[0m\n\u001b[1;32m     20\u001b[0m         \u001b[0mLSD\u001b[0m \u001b[0;34m=\u001b[0m \u001b[0mcv2\u001b[0m\u001b[0;34m.\u001b[0m\u001b[0mFastLineDetector\u001b[0m\u001b[0;34m(\u001b[0m\u001b[0;34m**\u001b[0m\u001b[0mkwargs\u001b[0m\u001b[0;34m)\u001b[0m\u001b[0;34m\u001b[0m\u001b[0;34m\u001b[0m\u001b[0m\n",
      "\u001b[0;31mAttributeError\u001b[0m: module 'cv2.cv2' has no attribute 'face'"
     ]
    }
   ],
   "source": [
    "lsd_image = lsdWrap(input_images[0])\n",
    "showimage(lsd_image)"
   ]
  },
  {
   "cell_type": "code",
   "execution_count": null,
   "id": "c6fb4637",
   "metadata": {},
   "outputs": [],
   "source": []
  },
  {
   "cell_type": "code",
   "execution_count": null,
   "id": "3f78f435",
   "metadata": {},
   "outputs": [],
   "source": []
  },
  {
   "cell_type": "code",
   "execution_count": null,
   "id": "6230d27a",
   "metadata": {},
   "outputs": [],
   "source": []
  }
 ],
 "metadata": {
  "kernelspec": {
   "display_name": "Python 3",
   "language": "python",
   "name": "python3"
  },
  "language_info": {
   "codemirror_mode": {
    "name": "ipython",
    "version": 3
   },
   "file_extension": ".py",
   "mimetype": "text/x-python",
   "name": "python",
   "nbconvert_exporter": "python",
   "pygments_lexer": "ipython3",
   "version": "3.8.8"
  }
 },
 "nbformat": 4,
 "nbformat_minor": 5
}
