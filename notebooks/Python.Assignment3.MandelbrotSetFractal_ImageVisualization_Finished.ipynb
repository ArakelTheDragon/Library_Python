{
 "cells": [
  {
   "cell_type": "code",
   "execution_count": 8,
   "id": "635f1371",
   "metadata": {
    "scrolled": true
   },
   "outputs": [],
   "source": [
    "# Description:\n",
    "# To iterate (z on the power of 2) + c we begin with a seed for the iteration. This is a real or complex number\n",
    "# which we denote by z0. Applying the function (z on the power of 2) + c on z0, gives the new number.\n",
    "# Now we iterate using the result of the previous computation as the input for the next.\n",
    "# z0 = 0(this is the seed)\n",
    "# z1 = (z0 on the power of 2) + c\n",
    "# z2 = (z1 on the power of 2) + c\n",
    "# and so on.\n",
    "# if we take 0 for the seed, z0 = 0\n",
    "# z1 = (0 on the power of 2) + 1 = 1\n",
    "# z2 = (1 on the power of 2) + 1 = 2\n",
    "# and so on\n",
    "import numpy as np\n",
    "import matplotlib.pyplot as plt\n",
    "from matplotlib .pyplot import imshow\n",
    "from numpy import newaxis\n",
    "import cmath # importing cmat for complex number operations"
   ]
  },
  {
   "cell_type": "code",
   "execution_count": 4,
   "id": "cce9ba83",
   "metadata": {},
   "outputs": [],
   "source": [
    "def compute_mandelbrot(N_max, some_threshold, nx, ny):      # N_max = max iterations\n",
    "                                                            # some threshold = threshold for z after which to stop\n",
    "                                                            # nx = image height\n",
    "                                                            # ny = image width\n",
    "        \n",
    "                                                            # A grid of c-values\n",
    "    x = np.linspace(-2, 1, nx)                              # numpy linspace returns evenly placed numbers over a\n",
    "                                                            # specified interval\n",
    "    y = np.linspace(-1.5, 1.5, ny)                          # y = np.linspace(interval start, interval end, points)\n",
    "                                                            # y equals an array of numbers between -1.5 and 1.5,\n",
    "                                                            # with ny points, in this case 401, the numbers are\n",
    "                                                            # evenly placed\n",
    "\n",
    "    c = x[:,newaxis] + 1j*y[newaxis,:]                      # All values of c, these are the points on the image\n",
    "\n",
    "                                                            # Mandelbrot iteration\n",
    "    z = c                                                   \n",
    "                                                            # The code below overflows in many regions of the x-y grid, suppress\n",
    "                                                            # warnings temporarily\n",
    "    with np.warnings.catch_warnings():                      # We start the iterations by the formula\n",
    "        np.warnings.simplefilter(\"ignore\")                  # z(p) = (z(p-1) on the power of 2) + C\n",
    "        for j in range(N_max):\n",
    "            z = z**2 + c                                    # The mandelbrot set is the formula z(1) = (z0 on the power of 2) + c\n",
    "        mandelbrot_set = (abs(z) < some_threshold)          # After we calculate z, we get the absolute value\n",
    "                                                            # If we give abs() a complex number, then the function\n",
    "                                                            # returns the magnitude of that number\n",
    "        print (z)                                           # Prints nan + nan\n",
    "        print (mandelbrot_set)                              # Prints false\n",
    "    return mandelbrot_set"
   ]
  },
  {
   "cell_type": "code",
   "execution_count": 6,
   "id": "7191b23a",
   "metadata": {},
   "outputs": [
    {
     "name": "stdout",
     "output_type": "stream",
     "text": [
      "[[nan+nanj nan+nanj nan+nanj ... nan+nanj nan+nanj nan+nanj]\n",
      " [nan+nanj nan+nanj nan+nanj ... nan+nanj nan+nanj nan+nanj]\n",
      " [nan+nanj nan+nanj nan+nanj ... nan+nanj nan+nanj nan+nanj]\n",
      " ...\n",
      " [nan+nanj nan+nanj nan+nanj ... nan+nanj nan+nanj nan+nanj]\n",
      " [nan+nanj nan+nanj nan+nanj ... nan+nanj nan+nanj nan+nanj]\n",
      " [nan+nanj nan+nanj nan+nanj ... nan+nanj nan+nanj nan+nanj]]\n",
      "[[False False False ... False False False]\n",
      " [False False False ... False False False]\n",
      " [False False False ... False False False]\n",
      " ...\n",
      " [False False False ... False False False]\n",
      " [False False False ... False False False]\n",
      " [False False False ... False False False]]\n"
     ]
    },
    {
     "data": {
      "image/png": "[encoded data removed]",
      "text/plain": [
       "<Figure size 432x288 with 1 Axes>"
      ]
     },
     "metadata": {
      "needs_background": "light"
     },
     "output_type": "display_data"
    },
    {
     "ename": "NameError",
     "evalue": "name 'imshow' is not defined",
     "output_type": "error",
     "traceback": [
      "\u001b[0;31m---------------------------------------------------------------------------\u001b[0m",
      "\u001b[0;31mNameError\u001b[0m                                 Traceback (most recent call last)",
      "\u001b[0;32m<ipython-input-6-b8003517e661>\u001b[0m in \u001b[0;36m<module>\u001b[0;34m\u001b[0m\n\u001b[1;32m      5\u001b[0m \u001b[0mplt\u001b[0m\u001b[0;34m.\u001b[0m\u001b[0mshow\u001b[0m\u001b[0;34m(\u001b[0m\u001b[0;34m)\u001b[0m                                                 \u001b[0;31m# We show the image\u001b[0m\u001b[0;34m\u001b[0m\u001b[0;34m\u001b[0m\u001b[0m\n\u001b[1;32m      6\u001b[0m \u001b[0;34m\u001b[0m\u001b[0m\n\u001b[0;32m----> 7\u001b[0;31m \u001b[0mimshow\u001b[0m\u001b[0;34m(\u001b[0m\u001b[0mnp\u001b[0m\u001b[0;34m.\u001b[0m\u001b[0masarray\u001b[0m\u001b[0;34m(\u001b[0m\u001b[0mmandelbrot_set\u001b[0m\u001b[0;34m)\u001b[0m\u001b[0;34m)\u001b[0m\u001b[0;34m\u001b[0m\u001b[0;34m\u001b[0m\u001b[0m\n\u001b[0m",
      "\u001b[0;31mNameError\u001b[0m: name 'imshow' is not defined"
     ]
    }
   ],
   "source": [
    "mandelbrot_set = compute_mandelbrot(50, 50., 601, 401)     # Max iterations, threshold, image height, image width\n",
    "\n",
    "plt.imshow(mandelbrot_set.T, extent=[-2, 1, -1.5, 1.5])    # The image has dimensions nx and ny, but we scale it to -2, 1 for x and -1.5, 1.5 for y\n",
    "plt.gray()                                                 # We assign the right color to our mandelbrot set\n",
    "plt.show()                                                 # We show the image\n",
    "\n",
    "imshow(np.asarray(mandelbrot_set))"
   ]
  },
  {
   "cell_type": "code",
   "execution_count": null,
   "id": "051d1e4b",
   "metadata": {},
   "outputs": [],
   "source": []
  },
  {
   "cell_type": "code",
   "execution_count": null,
   "id": "aa33a49d",
   "metadata": {},
   "outputs": [],
   "source": []
  }
 ],
 "metadata": {
  "kernelspec": {
   "display_name": "Python 3",
   "language": "python",
   "name": "python3"
  },
  "language_info": {
   "codemirror_mode": {
    "name": "ipython",
    "version": 3
   },
   "file_extension": ".py",
   "mimetype": "text/x-python",
   "name": "python",
   "nbconvert_exporter": "python",
   "pygments_lexer": "ipython3",
   "version": "3.8.10"
  }
 },
 "nbformat": 4,
 "nbformat_minor": 5
}
