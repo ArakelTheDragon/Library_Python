{
 "cells": [
  {
   "cell_type": "markdown",
   "id": "ba289a18",
   "metadata": {},
   "source": [
    "# Advanced Python Constructs"
   ]
  },
  {
   "cell_type": "code",
   "execution_count": 2,
   "id": "122f3eb3",
   "metadata": {},
   "outputs": [],
   "source": [
    "# The stuff in this notebook is explained in more detail here:\n",
    "# https://scipy-lectures.org/advanced/advanced_python/index.html"
   ]
  },
  {
   "cell_type": "markdown",
   "id": "6553d12b",
   "metadata": {},
   "source": [
    "## Classes"
   ]
  },
  {
   "cell_type": "markdown",
   "id": "aadb2611",
   "metadata": {},
   "source": [
    "In this lesson, you will learn:\n",
    "\n",
    "   * how to define a Class\n",
    "   * how to define class methods\n",
    "   * how to inherit a class from base class\n",
    "   * how to specify and use static methods\n",
    "   * how to declare private methods"
   ]
  },
  {
   "cell_type": "code",
   "execution_count": 3,
   "id": "3571401b",
   "metadata": {},
   "outputs": [],
   "source": [
    "# A short introduction to Python Classes. More can be found here:\n",
    "# https://notebook.community/acs/python-red/Classes-en"
   ]
  },
  {
   "cell_type": "code",
   "execution_count": 4,
   "id": "f6b30f8f",
   "metadata": {},
   "outputs": [],
   "source": [
    "# A minimal class in Python that does nothing\n",
    "class Atom():\n",
    "    pass"
   ]
  },
  {
   "cell_type": "code",
   "execution_count": 5,
   "id": "ce620c0c",
   "metadata": {},
   "outputs": [],
   "source": [
    "# Creating a class instance\n",
    "atom = Atom()"
   ]
  },
  {
   "cell_type": "code",
   "execution_count": 4,
   "id": "62181bb4",
   "metadata": {},
   "outputs": [
    {
     "name": "stdout",
     "output_type": "stream",
     "text": [
      "6 6 8\n"
     ]
    }
   ],
   "source": [
    "# A class with a constructor method\n",
    "class Atom():\n",
    "    def __init__(self, electrons, protons, other):\n",
    "        self.electrons = electrons\n",
    "        self.protons = protons\n",
    "        self.other = other\n",
    "\n",
    "carbon = Atom(electrons = 6, protons = 6, other = 8)\n",
    "\n",
    "print(carbon.electrons, carbon.protons, carbon.other)"
   ]
  },
  {
   "cell_type": "code",
   "execution_count": 8,
   "id": "d765cd0f",
   "metadata": {},
   "outputs": [
    {
     "name": "stdout",
     "output_type": "stream",
     "text": [
      "The carbon atom has 6 electrons\n",
      "The carbon atom has 6 protons\n"
     ]
    }
   ],
   "source": [
    "# Class with methods\n",
    "class Atom():\n",
    "    def __init__(self, electrons, protons):\n",
    "        self.electrons = electrons\n",
    "        self.protons = protons\n",
    "\n",
    "    def get_electrons(self):\n",
    "        return self.electrons\n",
    "    \n",
    "    def get_protons(self):\n",
    "        return self.protons\n",
    "\n",
    "carbon = Atom(electrons = 6, protons = 6)\n",
    "print(\"The carbon atom has %i electrons\" % carbon.get_electrons())\n",
    "print(\"The carbon atom has %i protons\" % carbon.get_electrons())"
   ]
  },
  {
   "cell_type": "code",
   "execution_count": 9,
   "id": "19777d40",
   "metadata": {},
   "outputs": [
    {
     "name": "stdout",
     "output_type": "stream",
     "text": [
      "The carbon atom has 6 electrons\n",
      "The carbon atom has 6 protons\n"
     ]
    }
   ],
   "source": [
    "# Class inheritance\n",
    "# A class could be defined reusing (specializing) another class (its base class). \n",
    "# Let's create a new class to work specifically with Carbon atoms.\n",
    "class Carbon(Atom):\n",
    "    def __init__(self):\n",
    "        self.electrons = 6\n",
    "        self.protons = 6\n",
    "    \n",
    "carbon = Carbon()\n",
    "print(\"The carbon atom has %i electrons\" % carbon.get_electrons())\n",
    "print(\"The carbon atom has %i protons\" % carbon.get_electrons())"
   ]
  },
  {
   "cell_type": "code",
   "execution_count": 10,
   "id": "f740e76e",
   "metadata": {},
   "outputs": [],
   "source": [
    "# The Carbon atom has 11 isotopes but the most common is Carbon12, that it has 6 neutrons in the atom's nucleus.\n",
    "# A new class can be defined to represent this Carbon12 isotope.\n",
    "class Carbon12(Carbon):\n",
    "    def __init__(self):\n",
    "        self.electrons = 6\n",
    "        self.protons = 6\n",
    "        self.neutrons = 6"
   ]
  },
  {
   "cell_type": "code",
   "execution_count": 11,
   "id": "e3d51183",
   "metadata": {},
   "outputs": [],
   "source": [
    "class Atom():\n",
    "    def __init__(self, electrons, protons, neutrons):\n",
    "        self.electrons = electrons\n",
    "        self.protons = protons\n",
    "        self.neutrons = neutrons\n",
    "        \n",
    "    def get_electrons(self):\n",
    "        return self.electrons\n",
    "    \n",
    "    def get_protons(self):\n",
    "        return self.protons\n",
    "    \n",
    "    def get_neutrons(self):\n",
    "        return self.neutrons\n",
    "\n",
    "class Carbon(Atom):\n",
    "    def __init__(self, neutrons=6):\n",
    "        self.electrons = 6\n",
    "        self.protons = 6\n",
    "        self.neutrons = neutrons"
   ]
  },
  {
   "cell_type": "code",
   "execution_count": 12,
   "id": "12e555c0",
   "metadata": {},
   "outputs": [
    {
     "name": "stdout",
     "output_type": "stream",
     "text": [
      "7\n"
     ]
    }
   ],
   "source": [
    "# Atoms by default are created with 6 neutrons, like Carbon12. \n",
    "# So this is the default isotope generated when creating new Atoms. \n",
    "# But this value can be chnaged just passing a different value in the constructor.\n",
    "carbon13 = Carbon(neutrons=7)\n",
    "print(carbon13.get_neutrons())"
   ]
  },
  {
   "cell_type": "code",
   "execution_count": 13,
   "id": "87b9c305",
   "metadata": {},
   "outputs": [],
   "source": [
    "# Analyzing the Carbon class, the number or electros and protons is always the same, \n",
    "# no matter what is the carbon isotope object we are creating. \n",
    "# So this data is not object specific but class specific. \n",
    "# All the objects created from this Carbon class will have the same values for electros and protons.\n",
    "\n",
    "# To these variables that are related to the class, and that are not defined per object, we call the static variables. \n",
    "# They are declared at class level in this way:\n",
    "class Atom():\n",
    "    electrons = None\n",
    "    protons = None\n",
    "\n",
    "    def __init__(self, neutrons):\n",
    "        self.neutrons = neutrons\n",
    "    \n",
    "    @classmethod\n",
    "    def get_electrons(cls):\n",
    "        print(cls)\n",
    "        return cls.electrons\n",
    "    \n",
    "    @classmethod\n",
    "    def get_protons(cls):\n",
    "        return cls.protons\n",
    "    \n",
    "    def get_neutrons(self):\n",
    "        return self.neutrons\n",
    "\n",
    "class Carbon(Atom):\n",
    "    electrons = 6\n",
    "    protons = 6\n",
    "\n",
    "    def __init__(self, neutrons=6):\n",
    "        self.neutrons = neutrons"
   ]
  },
  {
   "cell_type": "code",
   "execution_count": 14,
   "id": "50d944d4",
   "metadata": {},
   "outputs": [
    {
     "name": "stdout",
     "output_type": "stream",
     "text": [
      "<class '__main__.Carbon'>\n",
      "6\n",
      "<class '__main__.Carbon'>\n",
      "6\n"
     ]
    }
   ],
   "source": [
    "carbon = Carbon()\n",
    "print(Carbon.get_electrons())\n",
    "print(carbon.get_electrons())"
   ]
  },
  {
   "cell_type": "code",
   "execution_count": 5,
   "id": "efc782b6",
   "metadata": {},
   "outputs": [
    {
     "name": "stdout",
     "output_type": "stream",
     "text": [
      "Atom private method\n"
     ]
    },
    {
     "ename": "AttributeError",
     "evalue": "'Carbon' object has no attribute '_Carbon__atom_private'",
     "output_type": "error",
     "traceback": [
      "\u001b[0;31m---------------------------------------------------\u001b[0m",
      "\u001b[0;31mAttributeError\u001b[0m    Traceback (most recent call last)",
      "\u001b[0;32m<ipython-input-5-62ccc2da23e3>\u001b[0m in \u001b[0;36m<module>\u001b[0;34m\u001b[0m\n\u001b[1;32m     34\u001b[0m \u001b[0;34m\u001b[0m\u001b[0m\n\u001b[1;32m     35\u001b[0m \u001b[0matom\u001b[0m \u001b[0;34m=\u001b[0m \u001b[0mAtom\u001b[0m\u001b[0;34m(\u001b[0m\u001b[0;34m)\u001b[0m\u001b[0;34m\u001b[0m\u001b[0;34m\u001b[0m\u001b[0m\n\u001b[0;32m---> 36\u001b[0;31m \u001b[0mcarbon\u001b[0m \u001b[0;34m=\u001b[0m \u001b[0mCarbon\u001b[0m\u001b[0;34m(\u001b[0m\u001b[0;34m)\u001b[0m\u001b[0;34m\u001b[0m\u001b[0;34m\u001b[0m\u001b[0m\n\u001b[0m",
      "\u001b[0;32m<ipython-input-5-62ccc2da23e3>\u001b[0m in \u001b[0;36m__init__\u001b[0;34m(self, neutrons)\u001b[0m\n\u001b[1;32m     31\u001b[0m     \u001b[0;32mdef\u001b[0m \u001b[0m__init__\u001b[0m\u001b[0;34m(\u001b[0m\u001b[0mself\u001b[0m\u001b[0;34m,\u001b[0m \u001b[0mneutrons\u001b[0m\u001b[0;34m=\u001b[0m\u001b[0;36m6\u001b[0m\u001b[0;34m)\u001b[0m\u001b[0;34m:\u001b[0m\u001b[0;34m\u001b[0m\u001b[0;34m\u001b[0m\u001b[0m\n\u001b[1;32m     32\u001b[0m         \u001b[0mself\u001b[0m\u001b[0;34m.\u001b[0m\u001b[0mneutrons\u001b[0m \u001b[0;34m=\u001b[0m \u001b[0mneutrons\u001b[0m\u001b[0;34m\u001b[0m\u001b[0;34m\u001b[0m\u001b[0m\n\u001b[0;32m---> 33\u001b[0;31m         \u001b[0mself\u001b[0m\u001b[0;34m.\u001b[0m\u001b[0m__atom_private\u001b[0m\u001b[0;34m(\u001b[0m\u001b[0;34m)\u001b[0m\u001b[0;34m\u001b[0m\u001b[0;34m\u001b[0m\u001b[0m\n\u001b[0m\u001b[1;32m     34\u001b[0m \u001b[0;34m\u001b[0m\u001b[0m\n\u001b[1;32m     35\u001b[0m \u001b[0matom\u001b[0m \u001b[0;34m=\u001b[0m \u001b[0mAtom\u001b[0m\u001b[0;34m(\u001b[0m\u001b[0;34m)\u001b[0m\u001b[0;34m\u001b[0m\u001b[0;34m\u001b[0m\u001b[0m\n",
      "\u001b[0;31mAttributeError\u001b[0m: 'Carbon' object has no attribute '_Carbon__atom_private'"
     ]
    }
   ],
   "source": [
    "# It is possible to declare as private methods from a class. \n",
    "# These methods can not be used outside the definition of the class. \n",
    "# And they are the key to enforce encapsulation of logic.\n",
    "class Atom():\n",
    "    electrons = None\n",
    "    protons = None\n",
    "\n",
    "    def __init__(self, neutrons=None):\n",
    "        self.neutrons = neutrons\n",
    "        self.__atom_private()\n",
    "    \n",
    "    @classmethod\n",
    "    def get_electrons(cls):\n",
    "        print(cls)\n",
    "        return cls.electrons\n",
    "    \n",
    "    @classmethod\n",
    "    def get_protons(cls):\n",
    "        return cls.protons\n",
    "    \n",
    "    def get_neutrons(self):\n",
    "        return self.neutrons\n",
    "    \n",
    "    def __atom_private(self):\n",
    "        print(\"Atom private method\")\n",
    "\n",
    "class Carbon(Atom):\n",
    "    electrons = 6\n",
    "    protons = 6\n",
    "\n",
    "    def __init__(self, neutrons=6):\n",
    "        self.neutrons = neutrons\n",
    "        self.__atom_private()\n",
    "\n",
    "atom = Atom()\n",
    "carbon = Carbon()\n"
   ]
  },
  {
   "cell_type": "markdown",
   "id": "f85a2061",
   "metadata": {},
   "source": [
    "## Iterators, generators and generator expressions"
   ]
  },
  {
   "cell_type": "markdown",
   "id": "62a7fbcb",
   "metadata": {},
   "source": [
    "In this lesson, you will learn:\n",
    "\n",
    "   * what an iterator is\n",
    "   * how to use generator expressions\n",
    "   * how to use generators"
   ]
  },
  {
   "cell_type": "code",
   "execution_count": 16,
   "id": "e9664ead",
   "metadata": {},
   "outputs": [
    {
     "data": {
      "text/plain": [
       "[1, 2, 3, 4, 5]"
      ]
     },
     "execution_count": 16,
     "metadata": {},
     "output_type": "execute_result"
    }
   ],
   "source": [
    "# Let's declare a List\n",
    "numbers = [1,2,3,4,5]\n",
    "numbers"
   ]
  },
  {
   "cell_type": "code",
   "execution_count": 17,
   "id": "02d573ba",
   "metadata": {},
   "outputs": [
    {
     "name": "stdout",
     "output_type": "stream",
     "text": [
      "1\n",
      "2\n",
      "3\n",
      "4\n",
      "5\n"
     ]
    }
   ],
   "source": [
    "# You can create iterator by calling the __iter__ method of the list...\n",
    "iterator = numbers.__iter__()\n",
    "for it in iterator:\n",
    "    print(it)"
   ]
  },
  {
   "cell_type": "code",
   "execution_count": 18,
   "id": "cc6e4631",
   "metadata": {},
   "outputs": [
    {
     "name": "stdout",
     "output_type": "stream",
     "text": [
      "1\n",
      "2\n",
      "3\n",
      "4\n",
      "5\n"
     ]
    }
   ],
   "source": [
    "# ...  or using builtin iter() function\n",
    "iterator = iter(numbers)\n",
    "for it in iterator:\n",
    "    print(it)"
   ]
  },
  {
   "cell_type": "code",
   "execution_count": 22,
   "id": "e2e6340c",
   "metadata": {},
   "outputs": [
    {
     "name": "stdout",
     "output_type": "stream",
     "text": [
      "1\n",
      "2\n",
      "3\n",
      "4\n",
      "5\n"
     ]
    },
    {
     "ename": "StopIteration",
     "evalue": "",
     "output_type": "error",
     "traceback": [
      "\u001b[0;31m---------------------------------------------------------------------------\u001b[0m",
      "\u001b[0;31mStopIteration\u001b[0m                             Traceback (most recent call last)",
      "\u001b[0;32m<ipython-input-22-6a0d7caa4208>\u001b[0m in \u001b[0;36m<module>\u001b[0;34m\u001b[0m\n\u001b[1;32m      1\u001b[0m \u001b[0;31m# Each iterator has method next()\u001b[0m\u001b[0;34m\u001b[0m\u001b[0;34m\u001b[0m\u001b[0;34m\u001b[0m\u001b[0m\n\u001b[1;32m      2\u001b[0m \u001b[0miterator\u001b[0m \u001b[0;34m=\u001b[0m \u001b[0miter\u001b[0m\u001b[0;34m(\u001b[0m\u001b[0mnumbers\u001b[0m\u001b[0;34m)\u001b[0m\u001b[0;34m\u001b[0m\u001b[0;34m\u001b[0m\u001b[0m\n\u001b[0;32m----> 3\u001b[0;31m \u001b[0;32mwhile\u001b[0m \u001b[0mval\u001b[0m \u001b[0;34m:=\u001b[0m \u001b[0mnext\u001b[0m\u001b[0;34m(\u001b[0m\u001b[0miterator\u001b[0m\u001b[0;34m)\u001b[0m\u001b[0;34m:\u001b[0m\u001b[0;34m\u001b[0m\u001b[0;34m\u001b[0m\u001b[0m\n\u001b[0m\u001b[1;32m      4\u001b[0m     \u001b[0mprint\u001b[0m\u001b[0;34m(\u001b[0m\u001b[0mval\u001b[0m\u001b[0;34m)\u001b[0m\u001b[0;34m\u001b[0m\u001b[0;34m\u001b[0m\u001b[0m\n",
      "\u001b[0;31mStopIteration\u001b[0m: "
     ]
    }
   ],
   "source": [
    "# Each iterator has method next()\n",
    "# when reaching the end, a StopIteration exception is thrown\n",
    "# := is an assignment expression, new in Python 3.8\n",
    "iterator = iter(numbers)\n",
    "while val := next(iterator):\n",
    "    print(val)"
   ]
  },
  {
   "cell_type": "code",
   "execution_count": 23,
   "id": "3d5aca3f",
   "metadata": {},
   "outputs": [
    {
     "name": "stdout",
     "output_type": "stream",
     "text": [
      "1\n",
      "2\n",
      "3\n",
      "4\n",
      "5\n"
     ]
    }
   ],
   "source": [
    "# you can use a default (falsey) value to be used when stopping iterating (no more elements)\n",
    "iterator = iter(numbers)\n",
    "while val := next(iterator, None):\n",
    "    print(val)"
   ]
  },
  {
   "cell_type": "code",
   "execution_count": 25,
   "id": "70bfe2ad",
   "metadata": {},
   "outputs": [
    {
     "data": {
      "text/plain": [
       "[1, 2, 3, 4, 5]"
      ]
     },
     "execution_count": 25,
     "metadata": {},
     "output_type": "execute_result"
    }
   ],
   "source": [
    "# a generator expression is created as follows:\n",
    "[i for i in numbers]"
   ]
  },
  {
   "cell_type": "code",
   "execution_count": 26,
   "id": "db1351c0",
   "metadata": {},
   "outputs": [
    {
     "data": {
      "text/plain": [
       "[1, 4, 9, 16, 25]"
      ]
     },
     "execution_count": 26,
     "metadata": {},
     "output_type": "execute_result"
    }
   ],
   "source": [
    "# we can use it as mapping function, given a list and returning another list\n",
    "squares = [i**2 for i in numbers]\n",
    "squares"
   ]
  },
  {
   "cell_type": "code",
   "execution_count": 28,
   "id": "198d7c0b",
   "metadata": {},
   "outputs": [
    {
     "data": {
      "text/plain": [
       "<generator object <genexpr> at 0x7f6de4dd87b0>"
      ]
     },
     "execution_count": 28,
     "metadata": {},
     "output_type": "execute_result"
    }
   ],
   "source": [
    "# if you use round parentheses, you get a generator iterator instead of list\n",
    "iterator = (i for i in numbers)\n",
    "iterator"
   ]
  },
  {
   "cell_type": "code",
   "execution_count": 29,
   "id": "b98b4928",
   "metadata": {},
   "outputs": [
    {
     "name": "stdout",
     "output_type": "stream",
     "text": [
      "1\n",
      "2\n",
      "3\n",
      "4\n",
      "5\n"
     ]
    }
   ],
   "source": [
    "for val in iterator:\n",
    "    print(val)"
   ]
  },
  {
   "cell_type": "code",
   "execution_count": 30,
   "id": "e64ba93c",
   "metadata": {},
   "outputs": [
    {
     "data": {
      "text/plain": [
       "{1, 2, 3, 4, 5}"
      ]
     },
     "execution_count": 30,
     "metadata": {},
     "output_type": "execute_result"
    }
   ],
   "source": [
    "# You can use this list comprehension syntax also for generating sets and dictionaries\n",
    "number_set = {i for i in numbers}\n",
    "number_set"
   ]
  },
  {
   "cell_type": "code",
   "execution_count": 31,
   "id": "82dab22c",
   "metadata": {},
   "outputs": [
    {
     "data": {
      "text/plain": [
       "{1: 1, 2: 4, 3: 9, 4: 16, 5: 25}"
      ]
     },
     "execution_count": 31,
     "metadata": {},
     "output_type": "execute_result"
    }
   ],
   "source": [
    "number_squares_dict = {i:i**2 for i in numbers}\n",
    "number_squares_dict"
   ]
  },
  {
   "cell_type": "code",
   "execution_count": 33,
   "id": "d07cb9b7",
   "metadata": {},
   "outputs": [
    {
     "name": "stdout",
     "output_type": "stream",
     "text": [
      "1\n",
      "2\n",
      "3\n",
      "4\n",
      "5\n"
     ]
    }
   ],
   "source": [
    "# You can create iterators also by defining a generator function\n",
    "# Generator functions contain a keyword 'yield'\n",
    "def numbers_generator():\n",
    "    yield 1\n",
    "    yield 2\n",
    "    yield 3\n",
    "    yield 4\n",
    "    yield 5\n",
    "    \n",
    "for it in numbers_generator():\n",
    "    print(it)"
   ]
  },
  {
   "cell_type": "markdown",
   "id": "05ad75d3",
   "metadata": {},
   "source": [
    "## Decorators"
   ]
  },
  {
   "cell_type": "markdown",
   "id": "41fcd9fc",
   "metadata": {},
   "source": [
    "In this lesson, you will learn:\n",
    "\n",
    "   * what a decorator is\n",
    "   * how to implement decorators\n",
    "   * where are decorators used in standard library"
   ]
  },
  {
   "cell_type": "code",
   "execution_count": 35,
   "id": "2342bd72",
   "metadata": {},
   "outputs": [
    {
     "name": "stdout",
     "output_type": "stream",
     "text": [
      "doing decoration\n"
     ]
    }
   ],
   "source": [
    "# Function can be decorated by using the decorator syntax for functions:\n",
    "\n",
    "def simple_decorator(function):\n",
    "    print(\"doing decoration\")\n",
    "    return function\n",
    "\n",
    "@simple_decorator      # ②\n",
    "def function():        # ①\n",
    "    pass\n",
    "\n",
    "# A function is defined in the standard way. ①\n",
    "# An expression starting with @ placed before the function definition is the decorator ②. \n",
    "# The part after @ must be a simple expression, usually this is just the name of a function or class. \n",
    "# This part is evaluated first, and after the function defined below is ready, \n",
    "# the decorator is called with the newly defined function object as the single argument. \n",
    "# The value returned by the decorator is attached to the original name of the function."
   ]
  },
  {
   "cell_type": "code",
   "execution_count": 36,
   "id": "a88b75fc",
   "metadata": {},
   "outputs": [
    {
     "name": "stdout",
     "output_type": "stream",
     "text": [
      "doing decoration\n"
     ]
    }
   ],
   "source": [
    "# The only requirement on decorators is that they can be called with a single argument. \n",
    "# This means that decorators can be implemented as normal functions, \n",
    "# or as classes with a __call__ method, or in theory, even as lambda functions.\n",
    "\n",
    "def simple_decorator(function):\n",
    "    print(\"doing decoration\")\n",
    "    return function\n",
    "\n",
    "@simple_decorator\n",
    "def function():\n",
    "    print(\"inside function\")"
   ]
  },
  {
   "cell_type": "code",
   "execution_count": 37,
   "id": "1f1210e3",
   "metadata": {},
   "outputs": [
    {
     "name": "stdout",
     "output_type": "stream",
     "text": [
      "inside function\n"
     ]
    }
   ],
   "source": [
    "function()"
   ]
  },
  {
   "cell_type": "code",
   "execution_count": 38,
   "id": "6c6f276a",
   "metadata": {},
   "outputs": [
    {
     "name": "stdout",
     "output_type": "stream",
     "text": [
      "defining the decorator\n",
      "doing decoration, 'abc'\n"
     ]
    }
   ],
   "source": [
    "def decorator_with_arguments(arg):\n",
    "    print(\"defining the decorator\")\n",
    "    def _decorator(function):\n",
    "        # in this inner function, arg is available too\n",
    "        print(\"doing decoration, %r\" % arg)\n",
    "        return function\n",
    "    return _decorator\n",
    "\n",
    "@decorator_with_arguments(\"abc\")\n",
    "def function():\n",
    "    print(\"inside function\")"
   ]
  },
  {
   "cell_type": "code",
   "execution_count": 39,
   "id": "ea5f598a",
   "metadata": {},
   "outputs": [
    {
     "name": "stdout",
     "output_type": "stream",
     "text": [
      "inside function\n"
     ]
    }
   ],
   "source": [
    "function()"
   ]
  },
  {
   "cell_type": "code",
   "execution_count": 41,
   "id": "98bbc36c",
   "metadata": {},
   "outputs": [
    {
     "name": "stdout",
     "output_type": "stream",
     "text": [
      "in decorator init, foo\n",
      "in decorator call, foo\n",
      "in function, () {}\n"
     ]
    }
   ],
   "source": [
    "# Compared to decorators defined as functions, complex decorators defined as classes are simpler. \n",
    "# When an object is created, the __init__ method is only allowed to return None, \n",
    "# and the type of the created object cannot be changed.\n",
    "\n",
    "class decorator_class(object):\n",
    "    def __init__(self, arg):\n",
    "        # this method is called in the decorator expression\n",
    "        print(\"in decorator init, %s\" % arg)\n",
    "        self.arg = arg\n",
    "        \n",
    "    def __call__(self, function):\n",
    "        # this method is called to do the job\n",
    "        print(\"in decorator call, %s\" % self.arg)\n",
    "        return function\n",
    "    \n",
    "deco_instance = decorator_class('foo')\n",
    "\n",
    "@deco_instance\n",
    "def function(*args, **kwargs):\n",
    "    print(\"in function, %s %s\" % (args, kwargs))\n",
    "\n",
    "function()"
   ]
  },
  {
   "cell_type": "code",
   "execution_count": 42,
   "id": "d5eac176",
   "metadata": {},
   "outputs": [],
   "source": [
    "# The python standard library also uses some decorators\n",
    "# e.g. @classmethod, @staticmethod, @property"
   ]
  },
  {
   "cell_type": "code",
   "execution_count": 43,
   "id": "51471d05",
   "metadata": {},
   "outputs": [],
   "source": [
    "# Example of using the @classmethod decorator:\n",
    "\n",
    "class Array(object):\n",
    "    def __init__(self, data):\n",
    "        self.data = data\n",
    "\n",
    "    @classmethod\n",
    "    def fromfile(cls, file):\n",
    "        data = numpy.load(file)\n",
    "        return cls(data)\n",
    "\n",
    "# A class method takes cls as first parameter while a static method needs no specific parameters. \n",
    "# A class method can access or modify class state while a static method can't access or modify it. \n",
    "# In general, static methods know nothing about class state."
   ]
  },
  {
   "cell_type": "code",
   "execution_count": 44,
   "id": "126d7e50",
   "metadata": {},
   "outputs": [
    {
     "data": {
      "text/plain": [
       "<property at 0x7f6dcf3f91d0>"
      ]
     },
     "execution_count": 44,
     "metadata": {},
     "output_type": "execute_result"
    }
   ],
   "source": [
    "# Example of using @property decorator to declare a getter:\n",
    "\n",
    "class A(object):\n",
    "    @property\n",
    "    def a(self):\n",
    "        \"an important attribute\"\n",
    "        return \"a value\"\n",
    "    \n",
    "A.a"
   ]
  },
  {
   "cell_type": "code",
   "execution_count": 45,
   "id": "556c50a7",
   "metadata": {},
   "outputs": [
    {
     "data": {
      "text/plain": [
       "'a value'"
      ]
     },
     "execution_count": 45,
     "metadata": {},
     "output_type": "execute_result"
    }
   ],
   "source": [
    "A().a"
   ]
  },
  {
   "cell_type": "code",
   "execution_count": 47,
   "id": "b0eef547",
   "metadata": {},
   "outputs": [
    {
     "name": "stdout",
     "output_type": "stream",
     "text": [
      "Help on class A in module __main__:\n",
      "\n",
      "class A(builtins.object)\n",
      " |  Readonly properties defined here:\n",
      " |  \n",
      " |  a\n",
      " |      an important attribute\n",
      " |  \n",
      " |  ----------------------------------------------------------------------\n",
      " |  Data descriptors defined here:\n",
      " |  \n",
      " |  __dict__\n",
      " |      dictionary for instance variables (if defined)\n",
      " |  \n",
      " |  __weakref__\n",
      " |      list of weak references to the object (if defined)\n",
      "\n"
     ]
    }
   ],
   "source": [
    "# this allows to see the documentation for our class\n",
    "help(A)"
   ]
  },
  {
   "cell_type": "code",
   "execution_count": 48,
   "id": "88a0b874",
   "metadata": {},
   "outputs": [],
   "source": [
    "# You can define setters, too...\n",
    "class Rectangle(object):\n",
    "    def __init__(self, edge):\n",
    "        self.edge = edge\n",
    "\n",
    "    @property\n",
    "    def area(self):\n",
    "        \"\"\"Computed area.\n",
    "\n",
    "        Setting this updates the edge length to the proper value.\n",
    "        \"\"\"\n",
    "        return self.edge**2\n",
    "\n",
    "    @area.setter\n",
    "    def area(self, area):\n",
    "        self.edge = area ** 0.5"
   ]
  },
  {
   "cell_type": "code",
   "execution_count": 49,
   "id": "078ee57e",
   "metadata": {},
   "outputs": [
    {
     "data": {
      "text/plain": [
       "25"
      ]
     },
     "execution_count": 49,
     "metadata": {},
     "output_type": "execute_result"
    }
   ],
   "source": [
    "rect = Rectangle(5)\n",
    "rect.area"
   ]
  },
  {
   "cell_type": "code",
   "execution_count": 50,
   "id": "47274eb3",
   "metadata": {},
   "outputs": [
    {
     "data": {
      "text/plain": [
       "6.0"
      ]
     },
     "execution_count": 50,
     "metadata": {},
     "output_type": "execute_result"
    }
   ],
   "source": [
    "rect.area = 36\n",
    "rect.edge"
   ]
  },
  {
   "cell_type": "markdown",
   "id": "9d4421b4",
   "metadata": {},
   "source": [
    "## Context Managers"
   ]
  },
  {
   "cell_type": "markdown",
   "id": "14bc6d0a",
   "metadata": {},
   "source": [
    "In this lesson, you will learn:\n",
    "\n",
    "   * what a context manager is\n",
    "   * how to implement context managers"
   ]
  },
  {
   "cell_type": "code",
   "execution_count": null,
   "id": "824e8497",
   "metadata": {},
   "outputs": [],
   "source": [
    "# A context manager is an object with __enter__ and __exit__ methods \n",
    "# which can be used in the with statement:\n",
    "#\n",
    "# with manager as var:\n",
    "#    do_something(var)\n",
    "#\n",
    "# which is basically the same as\n",
    "#\n",
    "# var = manager.__enter__()\n",
    "# try:\n",
    "#     do_something(var)\n",
    "# finally:\n",
    "#     manager.__exit__()"
   ]
  },
  {
   "cell_type": "markdown",
   "id": "73b8db30",
   "metadata": {},
   "source": [
    "In other words, the context manager protocol defined in PEP 343 permits the extraction of the boring part of a try..except..finally structure into a separate class leaving only the interesting do_something block.\n",
    "\n",
    "The __enter__ method is called first. It can return a value which will be assigned to var. The as-part is optional: if it isn’t present, the value returned by __enter__ is simply ignored.\n",
    "The block of code underneath with is executed. Just like with try clauses, it can either execute successfully to the end, or it can break, continue or return, or it can throw an exception. Either way, after the block is finished, the __exit__ method is called. If an exception was thrown, the information about the exception is passed to __exit__, which is described below in the next subsection. In the normal case, exceptions can be ignored, just like in a finally clause, and will be rethrown after __exit__ is finished."
   ]
  },
  {
   "cell_type": "code",
   "execution_count": null,
   "id": "170ac1ec",
   "metadata": {},
   "outputs": [],
   "source": [
    "class wrapper(object):\n",
    "    def __init__(self, obj):\n",
    "        self.obj = obj\n",
    "    def __enter__(self):\n",
    "        return self.obj\n",
    "    def __exit__(self, *args):\n",
    "        self.obj.close()\n",
    "        \n",
    "with wrapper(open('/tmp/file', 'w')) as f:\n",
    "    f.write('the contents\\n')  "
   ]
  },
  {
   "cell_type": "markdown",
   "id": "48725c62",
   "metadata": {},
   "source": [
    "Here we have made sure that the f.close() is called when the with block is exited. Since closing files is such a common operation, the support for this is already present in the file class. It has an __exit__ method which calls close and can be used as a context manager itself:"
   ]
  },
  {
   "cell_type": "code",
   "execution_count": null,
   "id": "800b141f",
   "metadata": {},
   "outputs": [],
   "source": []
  }
 ],
 "metadata": {
  "kernelspec": {
   "display_name": "Python 3",
   "language": "python",
   "name": "python3"
  },
  "language_info": {
   "codemirror_mode": {
    "name": "ipython",
    "version": 3
   },
   "file_extension": ".py",
   "mimetype": "text/x-python",
   "name": "python",
   "nbconvert_exporter": "python",
   "pygments_lexer": "ipython3",
   "version": "3.8.8"
  }
 },
 "nbformat": 4,
 "nbformat_minor": 5
}
