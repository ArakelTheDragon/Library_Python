{
 "cells": [
  {
   "cell_type": "markdown",
   "metadata": {},
   "source": [
    "# 1. Python"
   ]
  },
  {
   "cell_type": "markdown",
   "metadata": {},
   "source": [
    "Python is a programming language that has been under development for over 25 years [1].\n",
    "\n",
    "This Chapter will not cover everything in Python. If you would like, please consider the following resources:\n",
    "\n",
    "**Getting Started with Python**:\n",
    "\n",
    "* https://www.codecademy.com/learn/python\n",
    "* http://docs.python-guide.org/en/latest/intro/learning/\n",
    "* https://learnpythonthehardway.org/book/\n",
    "* https://www.codementor.io/learn-python-online\n",
    "* https://websitesetup.org/python-cheat-sheet/\n",
    "\n",
    "**Learning Python in Notebooks**:\n",
    "\n",
    "* http://mbakker7.github.io/exploratory_computing_with_python/\n",
    "\n",
    "This is handy to always have available for reference:\n",
    "\n",
    "**Python Reference**:\n",
    "\n",
    "* https://docs.python.org/3.5/reference/\n"
   ]
  },
  {
   "cell_type": "markdown",
   "metadata": {},
   "source": [
    "## 1.1 Statements"
   ]
  },
  {
   "cell_type": "markdown",
   "metadata": {},
   "source": [
    "Python is an [imperative language](https://en.wikipedia.org/wiki/Imperative_programming) based on [statements](https://en.wikipedia.org/wiki/Statement_(computer_science&#41;). That is, programs in Python consists of lines composed of statements. A statement can be:\n",
    "\n",
    "* a single expression\n",
    "* an assignment\n",
    "* a function call\n",
    "* a function definition\n",
    "* a statement; statement"
   ]
  },
  {
   "cell_type": "markdown",
   "metadata": {},
   "source": [
    "### 1.1.1 Expressions"
   ]
  },
  {
   "cell_type": "markdown",
   "metadata": {},
   "source": [
    "* Numbers\n",
    "  * integers\n",
    "  * floating-point\n",
    "  * complex numbers\n",
    "* strings\n",
    "* boolean values\n",
    "* lists and dicts"
   ]
  },
  {
   "cell_type": "markdown",
   "metadata": {},
   "source": [
    "#### 1.1.1.1 Numbers"
   ]
  },
  {
   "cell_type": "code",
   "execution_count": null,
   "metadata": {},
   "outputs": [],
   "source": [
    "1"
   ]
  },
  {
   "cell_type": "code",
   "execution_count": null,
   "metadata": {
    "collapsed": true
   },
   "outputs": [],
   "source": [
    "2"
   ]
  },
  {
   "cell_type": "code",
   "execution_count": null,
   "metadata": {},
   "outputs": [],
   "source": [
    "-3"
   ]
  },
  {
   "cell_type": "code",
   "execution_count": null,
   "metadata": {},
   "outputs": [],
   "source": [
    "1\n",
    "2"
   ]
  },
  {
   "cell_type": "code",
   "execution_count": null,
   "metadata": {},
   "outputs": [],
   "source": [
    "3.14"
   ]
  },
  {
   "cell_type": "markdown",
   "metadata": {},
   "source": [
    "#### 1.1.1.2 Strings"
   ]
  },
  {
   "cell_type": "code",
   "execution_count": null,
   "metadata": {},
   "outputs": [],
   "source": [
    "'apple'"
   ]
  },
  {
   "cell_type": "code",
   "execution_count": null,
   "metadata": {},
   "outputs": [],
   "source": [
    "\"apple\""
   ]
  },
  {
   "cell_type": "markdown",
   "metadata": {},
   "source": [
    "Notice that the Out might not match exactly the In. In the above example, we used double-quotes but the representation of the string used single-quotes. Python will default to showing representations of values using single-quotes, if it can."
   ]
  },
  {
   "cell_type": "markdown",
   "metadata": {},
   "source": [
    "#### 1.1.1.3 Boolean Values"
   ]
  },
  {
   "cell_type": "code",
   "execution_count": null,
   "metadata": {},
   "outputs": [],
   "source": [
    "True"
   ]
  },
  {
   "cell_type": "code",
   "execution_count": null,
   "metadata": {},
   "outputs": [],
   "source": [
    "False"
   ]
  },
  {
   "cell_type": "markdown",
   "metadata": {},
   "source": [
    "#### 1.1.1.4 Lists and Dicts"
   ]
  },
  {
   "cell_type": "markdown",
   "metadata": {},
   "source": [
    "Python has three very useful data structures built into the language:\n",
    "\n",
    "* dictionaries (hash tables): {}\n",
    "* lists: []\n",
    "* tuples: (item, ...)\n",
    "\n",
    "List is a mutable list of items. Tuple is a read-only data structure (immutable)."
   ]
  },
  {
   "cell_type": "code",
   "execution_count": 2,
   "metadata": {},
   "outputs": [
    {
     "data": {
      "text/plain": [
       "[1, 2, 3]"
      ]
     },
     "execution_count": 2,
     "metadata": {},
     "output_type": "execute_result"
    }
   ],
   "source": [
    "[1, 2, 3]"
   ]
  },
  {
   "cell_type": "code",
   "execution_count": 3,
   "metadata": {},
   "outputs": [
    {
     "data": {
      "text/plain": [
       "(1, 2, 3)"
      ]
     },
     "execution_count": 3,
     "metadata": {},
     "output_type": "execute_result"
    }
   ],
   "source": [
    "(1, 2, 3)"
   ]
  },
  {
   "cell_type": "code",
   "execution_count": 4,
   "metadata": {},
   "outputs": [
    {
     "data": {
      "text/plain": [
       "(1, 2, 3)"
      ]
     },
     "execution_count": 4,
     "metadata": {},
     "output_type": "execute_result"
    }
   ],
   "source": [
    "1, 2, 3"
   ]
  },
  {
   "cell_type": "code",
   "execution_count": 5,
   "metadata": {},
   "outputs": [
    {
     "data": {
      "text/plain": [
       "{'apple': 'a fruit', 'banana': 'an herb', 'monkey': 'a mammal'}"
      ]
     },
     "execution_count": 5,
     "metadata": {},
     "output_type": "execute_result"
    }
   ],
   "source": [
    "{\"apple\": \"a fruit\", \"banana\": \"an herb\", \"monkey\": \"a mammal\"}"
   ]
  },
  {
   "cell_type": "code",
   "execution_count": 6,
   "metadata": {},
   "outputs": [
    {
     "data": {
      "text/plain": [
       "'a fruit'"
      ]
     },
     "execution_count": 6,
     "metadata": {},
     "output_type": "execute_result"
    }
   ],
   "source": [
    "{\"apple\": \"a fruit\", \"banana\": \"an herb\", \"monkey\": \"a mammal\"}[\"apple\"]"
   ]
  },
  {
   "cell_type": "markdown",
   "metadata": {},
   "source": [
    "### 1.1.2 Function Calls"
   ]
  },
  {
   "cell_type": "markdown",
   "metadata": {},
   "source": [
    "There are two ways to call functions in Python:\n",
    "\n",
    "1. by pre-defined infix operator name\n",
    "2. by function name, followed by parentheses\n",
    "\n",
    "Infix operator name:"
   ]
  },
  {
   "cell_type": "code",
   "execution_count": 7,
   "metadata": {},
   "outputs": [
    {
     "data": {
      "text/plain": [
       "3"
      ]
     },
     "execution_count": 7,
     "metadata": {},
     "output_type": "execute_result"
    }
   ],
   "source": [
    "1 + 2"
   ]
  },
  {
   "cell_type": "code",
   "execution_count": 8,
   "metadata": {},
   "outputs": [
    {
     "data": {
      "text/plain": [
       "1"
      ]
     },
     "execution_count": 8,
     "metadata": {},
     "output_type": "execute_result"
    }
   ],
   "source": [
    "abs(-1)"
   ]
  },
  {
   "cell_type": "code",
   "execution_count": 9,
   "metadata": {},
   "outputs": [],
   "source": [
    "import operator"
   ]
  },
  {
   "cell_type": "code",
   "execution_count": 10,
   "metadata": {},
   "outputs": [
    {
     "data": {
      "text/plain": [
       "3"
      ]
     },
     "execution_count": 10,
     "metadata": {},
     "output_type": "execute_result"
    }
   ],
   "source": [
    "operator.add(1, 2)"
   ]
  },
  {
   "cell_type": "markdown",
   "metadata": {},
   "source": [
    "#### 1.1.2.1 Print"
   ]
  },
  {
   "cell_type": "markdown",
   "metadata": {},
   "source": [
    "Evaluating and display result as an Out, versus evaluating and printing result (side-effect)."
   ]
  },
  {
   "cell_type": "code",
   "execution_count": 11,
   "metadata": {},
   "outputs": [
    {
     "name": "stdout",
     "output_type": "stream",
     "text": [
      "1\n"
     ]
    }
   ],
   "source": [
    "print(1)"
   ]
  },
  {
   "cell_type": "markdown",
   "metadata": {},
   "source": [
    "### 1.1.3 Special Values"
   ]
  },
  {
   "cell_type": "code",
   "execution_count": 12,
   "metadata": {},
   "outputs": [],
   "source": [
    "None"
   ]
  },
  {
   "cell_type": "markdown",
   "metadata": {},
   "source": [
    "### 1.1.4 Defining Functions"
   ]
  },
  {
   "cell_type": "code",
   "execution_count": 13,
   "metadata": {},
   "outputs": [],
   "source": [
    "def plus(a, b):\n",
    "    return a + b"
   ]
  },
  {
   "cell_type": "code",
   "execution_count": 14,
   "metadata": {},
   "outputs": [
    {
     "data": {
      "text/plain": [
       "7"
      ]
     },
     "execution_count": 14,
     "metadata": {},
     "output_type": "execute_result"
    }
   ],
   "source": [
    "plus(3, 4)"
   ]
  },
  {
   "cell_type": "code",
   "execution_count": 15,
   "metadata": {},
   "outputs": [],
   "source": [
    "def plus(a, b):\n",
    "    a + b"
   ]
  },
  {
   "cell_type": "code",
   "execution_count": 16,
   "metadata": {},
   "outputs": [],
   "source": [
    "plus(3, 4)"
   ]
  },
  {
   "cell_type": "markdown",
   "metadata": {},
   "source": [
    "What happened? All functions return *something*, even if you don't specify it. If you don't specify a return value, then it will default to returning `None`."
   ]
  },
  {
   "cell_type": "code",
   "execution_count": 17,
   "metadata": {},
   "outputs": [
    {
     "ename": "TypeError",
     "evalue": "can only concatenate str (not \"int\") to str",
     "output_type": "error",
     "traceback": [
      "\u001b[0;31m---------------------------------------------------\u001b[0m",
      "\u001b[0;31mTypeError\u001b[0m         Traceback (most recent call last)",
      "\u001b[0;32m<ipython-input-17-42f7d05b4f13>\u001b[0m in \u001b[0;36m<module>\u001b[0;34m\u001b[0m\n\u001b[0;32m----> 1\u001b[0;31m \u001b[0;34m\"a\"\u001b[0m \u001b[0;34m+\u001b[0m \u001b[0;36m1\u001b[0m\u001b[0;34m\u001b[0m\u001b[0;34m\u001b[0m\u001b[0m\n\u001b[0m",
      "\u001b[0;31mTypeError\u001b[0m: can only concatenate str (not \"int\") to str"
     ]
    }
   ],
   "source": [
    "\"a\" + 1"
   ]
  },
  {
   "cell_type": "markdown",
   "metadata": {},
   "source": [
    "<div style=\"background-color: lightgrey\">\n",
    "<h2>Sidebar 2-1: How to Read Python Error Messages</h2>\n",
    "\n",
    "<p>\n",
    "Python error messages \n",
    "<p>\n",
    "<tt>TypeError: Can't convert 'int' object to str implicitly</tt>\n",
    "</p>\n",
    "\n",
    "<p>Above the error message is the \"traceback\" also called the \"call stack\". This is a representation of the sequence of procedure calls that lead to the error. If the procedure call originated from code from a file, the filename would be listed after the word \"File\" on each line. If the procedure call originated from a notebook cell, then the word \"ipython-input-#-HEX\".\n",
    "</p>\n",
    "</div>"
   ]
  },
  {
   "cell_type": "markdown",
   "metadata": {},
   "source": [
    "## 1.2 Equality"
   ]
  },
  {
   "cell_type": "markdown",
   "metadata": {},
   "source": [
    "### 1.2.1 =="
   ]
  },
  {
   "cell_type": "code",
   "execution_count": 18,
   "metadata": {},
   "outputs": [
    {
     "data": {
      "text/plain": [
       "True"
      ]
     },
     "execution_count": 18,
     "metadata": {},
     "output_type": "execute_result"
    }
   ],
   "source": [
    "1 == 1"
   ]
  },
  {
   "cell_type": "markdown",
   "metadata": {},
   "source": [
    "### 1.2.2 is"
   ]
  },
  {
   "cell_type": "code",
   "execution_count": 19,
   "metadata": {},
   "outputs": [
    {
     "data": {
      "text/plain": [
       "False"
      ]
     },
     "execution_count": 19,
     "metadata": {},
     "output_type": "execute_result"
    }
   ],
   "source": [
    "[] is []"
   ]
  },
  {
   "cell_type": "code",
   "execution_count": 20,
   "metadata": {},
   "outputs": [
    {
     "data": {
      "text/plain": [
       "False"
      ]
     },
     "execution_count": 20,
     "metadata": {},
     "output_type": "execute_result"
    }
   ],
   "source": [
    "list() is list()"
   ]
  },
  {
   "cell_type": "code",
   "execution_count": 21,
   "metadata": {},
   "outputs": [
    {
     "data": {
      "text/plain": [
       "True"
      ]
     },
     "execution_count": 21,
     "metadata": {},
     "output_type": "execute_result"
    }
   ],
   "source": [
    "tuple() is tuple()"
   ]
  },
  {
   "cell_type": "code",
   "execution_count": 22,
   "metadata": {},
   "outputs": [
    {
     "name": "stderr",
     "output_type": "stream",
     "text": [
      "<>:1: SyntaxWarning: \"is\" with a literal. Did you mean \"==\"?\n",
      "<>:1: SyntaxWarning: \"is\" with a literal. Did you mean \"==\"?\n",
      "<ipython-input-22-7a355bd8766c>:1: SyntaxWarning: \"is\" with a literal. Did you mean \"==\"?\n",
      "  57663463467 is 57663463467\n"
     ]
    },
    {
     "data": {
      "text/plain": [
       "True"
      ]
     },
     "execution_count": 22,
     "metadata": {},
     "output_type": "execute_result"
    }
   ],
   "source": [
    "57663463467 is 57663463467"
   ]
  },
  {
   "cell_type": "markdown",
   "metadata": {},
   "source": [
    "# 2. Advanced Topics"
   ]
  },
  {
   "cell_type": "markdown",
   "metadata": {},
   "source": [
    "The Zen of Python:"
   ]
  },
  {
   "cell_type": "code",
   "execution_count": 23,
   "metadata": {},
   "outputs": [
    {
     "name": "stdout",
     "output_type": "stream",
     "text": [
      "The Zen of Python, by Tim Peters\n",
      "\n",
      "Beautiful is better than ugly.\n",
      "Explicit is better than implicit.\n",
      "Simple is better than complex.\n",
      "Complex is better than complicated.\n",
      "Flat is better than nested.\n",
      "Sparse is better than dense.\n",
      "Readability counts.\n",
      "Special cases aren't special enough to break the rules.\n",
      "Although practicality beats purity.\n",
      "Errors should never pass silently.\n",
      "Unless explicitly silenced.\n",
      "In the face of ambiguity, refuse the temptation to guess.\n",
      "There should be one-- and preferably only one --obvious way to do it.\n",
      "Although that way may not be obvious at first unless you're Dutch.\n",
      "Now is better than never.\n",
      "Although never is often better than *right* now.\n",
      "If the implementation is hard to explain, it's a bad idea.\n",
      "If the implementation is easy to explain, it may be a good idea.\n",
      "Namespaces are one honking great idea -- let's do more of those!\n"
     ]
    }
   ],
   "source": [
    "import this"
   ]
  },
  {
   "cell_type": "markdown",
   "metadata": {},
   "source": [
    "Python evolves. But there are limits:"
   ]
  },
  {
   "cell_type": "code",
   "execution_count": 24,
   "metadata": {},
   "outputs": [
    {
     "ename": "SyntaxError",
     "evalue": "not a chance (<ipython-input-24-6d5c5b2f0daf>, line 1)",
     "output_type": "error",
     "traceback": [
      "\u001b[0;36m  File \u001b[0;32m\"<ipython-input-24-6d5c5b2f0daf>\"\u001b[0;36m, line \u001b[0;32m1\u001b[0m\n\u001b[0;31m    from __future__ import braces\u001b[0m\n\u001b[0m    ^\u001b[0m\n\u001b[0;31mSyntaxError\u001b[0m\u001b[0;31m:\u001b[0m not a chance\n"
     ]
    }
   ],
   "source": [
    "from __future__ import braces"
   ]
  },
  {
   "cell_type": "markdown",
   "metadata": {},
   "source": [
    "## 2.1 Python Warts"
   ]
  },
  {
   "cell_type": "markdown",
   "metadata": {},
   "source": [
    "* http://web.archive.org/web/20031002184114/www.amk.ca/python/writing/warts.html\n",
    "* \n",
    "* https://www.python.org/dev/peps/pep-3099/"
   ]
  },
  {
   "cell_type": "markdown",
   "metadata": {},
   "source": [
    "## 2.2 Scope of variables"
   ]
  },
  {
   "cell_type": "markdown",
   "metadata": {},
   "source": [
    "Is not always clear:"
   ]
  },
  {
   "cell_type": "code",
   "execution_count": 25,
   "metadata": {},
   "outputs": [],
   "source": [
    "y = 0\n",
    "for x in range(10):\n",
    "    y = x"
   ]
  },
  {
   "cell_type": "code",
   "execution_count": 26,
   "metadata": {},
   "outputs": [
    {
     "data": {
      "text/plain": [
       "9"
      ]
     },
     "execution_count": 26,
     "metadata": {},
     "output_type": "execute_result"
    }
   ],
   "source": [
    "x"
   ]
  },
  {
   "cell_type": "code",
   "execution_count": 27,
   "metadata": {},
   "outputs": [
    {
     "data": {
      "text/plain": [
       "[10, 11, 12, 13, 14, 15, 16, 17, 18, 19]"
      ]
     },
     "execution_count": 27,
     "metadata": {},
     "output_type": "execute_result"
    }
   ],
   "source": [
    "[x for x in range(10, 20)]"
   ]
  },
  {
   "cell_type": "code",
   "execution_count": 28,
   "metadata": {},
   "outputs": [
    {
     "data": {
      "text/plain": [
       "9"
      ]
     },
     "execution_count": 28,
     "metadata": {},
     "output_type": "execute_result"
    }
   ],
   "source": [
    "x"
   ]
  },
  {
   "cell_type": "markdown",
   "metadata": {},
   "source": [
    "## 2.3 Scope"
   ]
  },
  {
   "cell_type": "markdown",
   "metadata": {},
   "source": [
    "Python follows the LEGB Rule (after https://www.amazon.com/dp/0596513984/):\n",
    "\n",
    "* L, Local: Names assigned in any way within a function (def or lambda)), and not declared global in that function.\n",
    "* E, Enclosing function locals: Name in the local scope of any and all enclosing functions (def or lambda), from inner to outer.\n",
    "* G, Global (module): Names assigned at the top-level of a module file, or declared global in a def within the file.\n",
    "* B, Built-in (Python): Names preassigned in the built-in names module : open, range, SyntaxError,..."
   ]
  },
  {
   "cell_type": "code",
   "execution_count": 29,
   "metadata": {},
   "outputs": [],
   "source": [
    "x = 3\n",
    "def foo():\n",
    "    x=4\n",
    "    def bar():\n",
    "        print(x)  # Accesses x from foo's scope\n",
    "    bar()  # Prints 4\n",
    "    x=5\n",
    "    bar()  # Prints 5"
   ]
  },
  {
   "cell_type": "code",
   "execution_count": 30,
   "metadata": {},
   "outputs": [
    {
     "name": "stdout",
     "output_type": "stream",
     "text": [
      "4\n",
      "5\n"
     ]
    }
   ],
   "source": [
    "foo()"
   ]
  },
  {
   "cell_type": "markdown",
   "metadata": {},
   "source": [
    "See [scope_resolution_legb_rule.ipynb](scope_resolution_legb_rule.ipynb) for some additional readings on scope."
   ]
  },
  {
   "cell_type": "markdown",
   "metadata": {},
   "source": [
    "## 2.4 Generators"
   ]
  },
  {
   "cell_type": "code",
   "execution_count": 31,
   "metadata": {},
   "outputs": [],
   "source": [
    "def function():\n",
    "    for i in range(10):\n",
    "        yield i"
   ]
  },
  {
   "cell_type": "code",
   "execution_count": 32,
   "metadata": {},
   "outputs": [
    {
     "data": {
      "text/plain": [
       "<generator object function at 0x7f35c8451890>"
      ]
     },
     "execution_count": 32,
     "metadata": {},
     "output_type": "execute_result"
    }
   ],
   "source": [
    "function()"
   ]
  },
  {
   "cell_type": "code",
   "execution_count": 33,
   "metadata": {},
   "outputs": [
    {
     "name": "stdout",
     "output_type": "stream",
     "text": [
      "0\n",
      "1\n",
      "2\n",
      "3\n",
      "4\n",
      "5\n",
      "6\n",
      "7\n",
      "8\n",
      "9\n"
     ]
    }
   ],
   "source": [
    "for y in function():\n",
    "    print(y)"
   ]
  },
  {
   "cell_type": "markdown",
   "metadata": {},
   "source": [
    "## 2.5 Default arguments"
   ]
  },
  {
   "cell_type": "code",
   "execution_count": 34,
   "metadata": {},
   "outputs": [],
   "source": [
    "def do_something(a, b, c):\n",
    "    return (a, b, c)"
   ]
  },
  {
   "cell_type": "code",
   "execution_count": 35,
   "metadata": {},
   "outputs": [
    {
     "data": {
      "text/plain": [
       "(1, 2, 3)"
      ]
     },
     "execution_count": 35,
     "metadata": {},
     "output_type": "execute_result"
    }
   ],
   "source": [
    "do_something(1, 2, 3)"
   ]
  },
  {
   "cell_type": "code",
   "execution_count": 36,
   "metadata": {},
   "outputs": [],
   "source": [
    "def do_something_else(a=1, b=2, c=3):\n",
    "    return (a, b, c)"
   ]
  },
  {
   "cell_type": "code",
   "execution_count": 37,
   "metadata": {},
   "outputs": [
    {
     "data": {
      "text/plain": [
       "(1, 2, 3)"
      ]
     },
     "execution_count": 37,
     "metadata": {},
     "output_type": "execute_result"
    }
   ],
   "source": [
    "do_something_else()"
   ]
  },
  {
   "cell_type": "code",
   "execution_count": 38,
   "metadata": {},
   "outputs": [],
   "source": [
    "def some_function(start=[]):\n",
    "    start.append(1)\n",
    "    return start"
   ]
  },
  {
   "cell_type": "code",
   "execution_count": 39,
   "metadata": {},
   "outputs": [],
   "source": [
    "result = some_function()"
   ]
  },
  {
   "cell_type": "code",
   "execution_count": 40,
   "metadata": {},
   "outputs": [
    {
     "data": {
      "text/plain": [
       "[1]"
      ]
     },
     "execution_count": 40,
     "metadata": {},
     "output_type": "execute_result"
    }
   ],
   "source": [
    "result"
   ]
  },
  {
   "cell_type": "code",
   "execution_count": 41,
   "metadata": {},
   "outputs": [],
   "source": [
    "result.append(2)"
   ]
  },
  {
   "cell_type": "code",
   "execution_count": 42,
   "metadata": {},
   "outputs": [],
   "source": [
    "other_result = some_function()"
   ]
  },
  {
   "cell_type": "code",
   "execution_count": 43,
   "metadata": {},
   "outputs": [
    {
     "data": {
      "text/plain": [
       "[1, 2, 1]"
      ]
     },
     "execution_count": 43,
     "metadata": {},
     "output_type": "execute_result"
    }
   ],
   "source": [
    "other_result"
   ]
  },
  {
   "cell_type": "markdown",
   "metadata": {},
   "source": [
    "## 3.2 List comprehension"
   ]
  },
  {
   "cell_type": "markdown",
   "metadata": {},
   "source": [
    "\"List comprehension\" is the idea of writing some code inside of a list that will generate a list.\n",
    "\n",
    "Consider the following:"
   ]
  },
  {
   "cell_type": "code",
   "execution_count": 44,
   "metadata": {},
   "outputs": [
    {
     "data": {
      "text/plain": [
       "[0, 1, 4, 9, 16, 25, 36, 49, 64, 81]"
      ]
     },
     "execution_count": 44,
     "metadata": {},
     "output_type": "execute_result"
    }
   ],
   "source": [
    "[x ** 2 for x in range(10)]"
   ]
  },
  {
   "cell_type": "code",
   "execution_count": 45,
   "metadata": {},
   "outputs": [
    {
     "data": {
      "text/plain": [
       "[0, 1, 4, 9, 16, 25, 36, 49, 64, 81]"
      ]
     },
     "execution_count": 45,
     "metadata": {},
     "output_type": "execute_result"
    }
   ],
   "source": [
    "temp_list = []\n",
    "for x in range(10):\n",
    "    temp_list.append(x ** 2)\n",
    "temp_list"
   ]
  },
  {
   "cell_type": "markdown",
   "metadata": {},
   "source": [
    "But list comprehension is much more concise."
   ]
  },
  {
   "cell_type": "markdown",
   "metadata": {},
   "source": [
    "## 3.3 Plotting"
   ]
  },
  {
   "cell_type": "code",
   "execution_count": 46,
   "metadata": {},
   "outputs": [],
   "source": [
    "%matplotlib notebook"
   ]
  },
  {
   "cell_type": "markdown",
   "metadata": {},
   "source": [
    "After the magic, we then need to import the matplotlib library:"
   ]
  },
  {
   "cell_type": "code",
   "execution_count": 47,
   "metadata": {},
   "outputs": [],
   "source": [
    "import matplotlib.pyplot as plt"
   ]
  },
  {
   "cell_type": "markdown",
   "metadata": {},
   "source": [
    "Python has many, many libraries. We will use a few over the course of the semester.\n",
    "\n",
    "To create a simple line plot, just give a list of y-values to the function plt.plot()."
   ]
  },
  {
   "cell_type": "code",
   "execution_count": 53,
   "metadata": {},
   "outputs": [
    {
     "data": {
      "application/javascript": [
       "/* Put everything inside the global mpl namespace */\n",
       "/* global mpl */\n",
       "window.mpl = {};\n",
       "\n",
       "mpl.get_websocket_type = function () {\n",
       "    if (typeof WebSocket !== 'undefined') {\n",
       "        return WebSocket;\n",
       "    } else if (typeof MozWebSocket !== 'undefined') {\n",
       "        return MozWebSocket;\n",
       "    } else {\n",
       "        alert(\n",
       "            'Your browser does not have WebSocket support. ' +\n",
       "                'Please try Chrome, Safari or Firefox ≥ 6. ' +\n",
       "                'Firefox 4 and 5 are also supported but you ' +\n",
       "                'have to enable WebSockets in about:config.'\n",
       "        );\n",
       "    }\n",
       "};\n",
       "\n",
       "mpl.figure = function (figure_id, websocket, ondownload, parent_element) {\n",
       "    this.id = figure_id;\n",
       "\n",
       "    this.ws = websocket;\n",
       "\n",
       "    this.supports_binary = this.ws.binaryType !== undefined;\n",
       "\n",
       "    if (!this.supports_binary) {\n",
       "        var warnings = document.getElementById('mpl-warnings');\n",
       "        if (warnings) {\n",
       "            warnings.style.display = 'block';\n",
       "            warnings.textContent =\n",
       "                'This browser does not support binary websocket messages. ' +\n",
       "                'Performance may be slow.';\n",
       "        }\n",
       "    }\n",
       "\n",
       "    this.imageObj = new Image();\n",
       "\n",
       "    this.context = undefined;\n",
       "    this.message = undefined;\n",
       "    this.canvas = undefined;\n",
       "    this.rubberband_canvas = undefined;\n",
       "    this.rubberband_context = undefined;\n",
       "    this.format_dropdown = undefined;\n",
       "\n",
       "    this.image_mode = 'full';\n",
       "\n",
       "    this.root = document.createElement('div');\n",
       "    this.root.setAttribute('style', 'display: inline-block');\n",
       "    this._root_extra_style(this.root);\n",
       "\n",
       "    parent_element.appendChild(this.root);\n",
       "\n",
       "    this._init_header(this);\n",
       "    this._init_canvas(this);\n",
       "    this._init_toolbar(this);\n",
       "\n",
       "    var fig = this;\n",
       "\n",
       "    this.waiting = false;\n",
       "\n",
       "    this.ws.onopen = function () {\n",
       "        fig.send_message('supports_binary', { value: fig.supports_binary });\n",
       "        fig.send_message('send_image_mode', {});\n",
       "        if (fig.ratio !== 1) {\n",
       "            fig.send_message('set_dpi_ratio', { dpi_ratio: fig.ratio });\n",
       "        }\n",
       "        fig.send_message('refresh', {});\n",
       "    };\n",
       "\n",
       "    this.imageObj.onload = function () {\n",
       "        if (fig.image_mode === 'full') {\n",
       "            // Full images could contain transparency (where diff images\n",
       "            // almost always do), so we need to clear the canvas so that\n",
       "            // there is no ghosting.\n",
       "            fig.context.clearRect(0, 0, fig.canvas.width, fig.canvas.height);\n",
       "        }\n",
       "        fig.context.drawImage(fig.imageObj, 0, 0);\n",
       "    };\n",
       "\n",
       "    this.imageObj.onunload = function () {\n",
       "        fig.ws.close();\n",
       "    };\n",
       "\n",
       "    this.ws.onmessage = this._make_on_message_function(this);\n",
       "\n",
       "    this.ondownload = ondownload;\n",
       "};\n",
       "\n",
       "mpl.figure.prototype._init_header = function () {\n",
       "    var titlebar = document.createElement('div');\n",
       "    titlebar.classList =\n",
       "        'ui-dialog-titlebar ui-widget-header ui-corner-all ui-helper-clearfix';\n",
       "    var titletext = document.createElement('div');\n",
       "    titletext.classList = 'ui-dialog-title';\n",
       "    titletext.setAttribute(\n",
       "        'style',\n",
       "        'width: 100%; text-align: center; padding: 3px;'\n",
       "    );\n",
       "    titlebar.appendChild(titletext);\n",
       "    this.root.appendChild(titlebar);\n",
       "    this.header = titletext;\n",
       "};\n",
       "\n",
       "mpl.figure.prototype._canvas_extra_style = function (_canvas_div) {};\n",
       "\n",
       "mpl.figure.prototype._root_extra_style = function (_canvas_div) {};\n",
       "\n",
       "mpl.figure.prototype._init_canvas = function () {\n",
       "    var fig = this;\n",
       "\n",
       "    var canvas_div = (this.canvas_div = document.createElement('div'));\n",
       "    canvas_div.setAttribute(\n",
       "        'style',\n",
       "        'border: 1px solid #ddd;' +\n",
       "            'box-sizing: content-box;' +\n",
       "            'clear: both;' +\n",
       "            'min-height: 1px;' +\n",
       "            'min-width: 1px;' +\n",
       "            'outline: 0;' +\n",
       "            'overflow: hidden;' +\n",
       "            'position: relative;' +\n",
       "            'resize: both;'\n",
       "    );\n",
       "\n",
       "    function on_keyboard_event_closure(name) {\n",
       "        return function (event) {\n",
       "            return fig.key_event(event, name);\n",
       "        };\n",
       "    }\n",
       "\n",
       "    canvas_div.addEventListener(\n",
       "        'keydown',\n",
       "        on_keyboard_event_closure('key_press')\n",
       "    );\n",
       "    canvas_div.addEventListener(\n",
       "        'keyup',\n",
       "        on_keyboard_event_closure('key_release')\n",
       "    );\n",
       "\n",
       "    this._canvas_extra_style(canvas_div);\n",
       "    this.root.appendChild(canvas_div);\n",
       "\n",
       "    var canvas = (this.canvas = document.createElement('canvas'));\n",
       "    canvas.classList.add('mpl-canvas');\n",
       "    canvas.setAttribute('style', 'box-sizing: content-box;');\n",
       "\n",
       "    this.context = canvas.getContext('2d');\n",
       "\n",
       "    var backingStore =\n",
       "        this.context.backingStorePixelRatio ||\n",
       "        this.context.webkitBackingStorePixelRatio ||\n",
       "        this.context.mozBackingStorePixelRatio ||\n",
       "        this.context.msBackingStorePixelRatio ||\n",
       "        this.context.oBackingStorePixelRatio ||\n",
       "        this.context.backingStorePixelRatio ||\n",
       "        1;\n",
       "\n",
       "    this.ratio = (window.devicePixelRatio || 1) / backingStore;\n",
       "\n",
       "    var rubberband_canvas = (this.rubberband_canvas = document.createElement(\n",
       "        'canvas'\n",
       "    ));\n",
       "    rubberband_canvas.setAttribute(\n",
       "        'style',\n",
       "        'box-sizing: content-box; position: absolute; left: 0; top: 0; z-index: 1;'\n",
       "    );\n",
       "\n",
       "    // Apply a ponyfill if ResizeObserver is not implemented by browser.\n",
       "    if (this.ResizeObserver === undefined) {\n",
       "        if (window.ResizeObserver !== undefined) {\n",
       "            this.ResizeObserver = window.ResizeObserver;\n",
       "        } else {\n",
       "            var obs = _JSXTOOLS_RESIZE_OBSERVER({});\n",
       "            this.ResizeObserver = obs.ResizeObserver;\n",
       "        }\n",
       "    }\n",
       "\n",
       "    this.resizeObserverInstance = new this.ResizeObserver(function (entries) {\n",
       "        var nentries = entries.length;\n",
       "        for (var i = 0; i < nentries; i++) {\n",
       "            var entry = entries[i];\n",
       "            var width, height;\n",
       "            if (entry.contentBoxSize) {\n",
       "                if (entry.contentBoxSize instanceof Array) {\n",
       "                    // Chrome 84 implements new version of spec.\n",
       "                    width = entry.contentBoxSize[0].inlineSize;\n",
       "                    height = entry.contentBoxSize[0].blockSize;\n",
       "                } else {\n",
       "                    // Firefox implements old version of spec.\n",
       "                    width = entry.contentBoxSize.inlineSize;\n",
       "                    height = entry.contentBoxSize.blockSize;\n",
       "                }\n",
       "            } else {\n",
       "                // Chrome <84 implements even older version of spec.\n",
       "                width = entry.contentRect.width;\n",
       "                height = entry.contentRect.height;\n",
       "            }\n",
       "\n",
       "            // Keep the size of the canvas and rubber band canvas in sync with\n",
       "            // the canvas container.\n",
       "            if (entry.devicePixelContentBoxSize) {\n",
       "                // Chrome 84 implements new version of spec.\n",
       "                canvas.setAttribute(\n",
       "                    'width',\n",
       "                    entry.devicePixelContentBoxSize[0].inlineSize\n",
       "                );\n",
       "                canvas.setAttribute(\n",
       "                    'height',\n",
       "                    entry.devicePixelContentBoxSize[0].blockSize\n",
       "                );\n",
       "            } else {\n",
       "                canvas.setAttribute('width', width * fig.ratio);\n",
       "                canvas.setAttribute('height', height * fig.ratio);\n",
       "            }\n",
       "            canvas.setAttribute(\n",
       "                'style',\n",
       "                'width: ' + width + 'px; height: ' + height + 'px;'\n",
       "            );\n",
       "\n",
       "            rubberband_canvas.setAttribute('width', width);\n",
       "            rubberband_canvas.setAttribute('height', height);\n",
       "\n",
       "            // And update the size in Python. We ignore the initial 0/0 size\n",
       "            // that occurs as the element is placed into the DOM, which should\n",
       "            // otherwise not happen due to the minimum size styling.\n",
       "            if (fig.ws.readyState == 1 && width != 0 && height != 0) {\n",
       "                fig.request_resize(width, height);\n",
       "            }\n",
       "        }\n",
       "    });\n",
       "    this.resizeObserverInstance.observe(canvas_div);\n",
       "\n",
       "    function on_mouse_event_closure(name) {\n",
       "        return function (event) {\n",
       "            return fig.mouse_event(event, name);\n",
       "        };\n",
       "    }\n",
       "\n",
       "    rubberband_canvas.addEventListener(\n",
       "        'mousedown',\n",
       "        on_mouse_event_closure('button_press')\n",
       "    );\n",
       "    rubberband_canvas.addEventListener(\n",
       "        'mouseup',\n",
       "        on_mouse_event_closure('button_release')\n",
       "    );\n",
       "    // Throttle sequential mouse events to 1 every 20ms.\n",
       "    rubberband_canvas.addEventListener(\n",
       "        'mousemove',\n",
       "        on_mouse_event_closure('motion_notify')\n",
       "    );\n",
       "\n",
       "    rubberband_canvas.addEventListener(\n",
       "        'mouseenter',\n",
       "        on_mouse_event_closure('figure_enter')\n",
       "    );\n",
       "    rubberband_canvas.addEventListener(\n",
       "        'mouseleave',\n",
       "        on_mouse_event_closure('figure_leave')\n",
       "    );\n",
       "\n",
       "    canvas_div.addEventListener('wheel', function (event) {\n",
       "        if (event.deltaY < 0) {\n",
       "            event.step = 1;\n",
       "        } else {\n",
       "            event.step = -1;\n",
       "        }\n",
       "        on_mouse_event_closure('scroll')(event);\n",
       "    });\n",
       "\n",
       "    canvas_div.appendChild(canvas);\n",
       "    canvas_div.appendChild(rubberband_canvas);\n",
       "\n",
       "    this.rubberband_context = rubberband_canvas.getContext('2d');\n",
       "    this.rubberband_context.strokeStyle = '#000000';\n",
       "\n",
       "    this._resize_canvas = function (width, height, forward) {\n",
       "        if (forward) {\n",
       "            canvas_div.style.width = width + 'px';\n",
       "            canvas_div.style.height = height + 'px';\n",
       "        }\n",
       "    };\n",
       "\n",
       "    // Disable right mouse context menu.\n",
       "    this.rubberband_canvas.addEventListener('contextmenu', function (_e) {\n",
       "        event.preventDefault();\n",
       "        return false;\n",
       "    });\n",
       "\n",
       "    function set_focus() {\n",
       "        canvas.focus();\n",
       "        canvas_div.focus();\n",
       "    }\n",
       "\n",
       "    window.setTimeout(set_focus, 100);\n",
       "};\n",
       "\n",
       "mpl.figure.prototype._init_toolbar = function () {\n",
       "    var fig = this;\n",
       "\n",
       "    var toolbar = document.createElement('div');\n",
       "    toolbar.classList = 'mpl-toolbar';\n",
       "    this.root.appendChild(toolbar);\n",
       "\n",
       "    function on_click_closure(name) {\n",
       "        return function (_event) {\n",
       "            return fig.toolbar_button_onclick(name);\n",
       "        };\n",
       "    }\n",
       "\n",
       "    function on_mouseover_closure(tooltip) {\n",
       "        return function (event) {\n",
       "            if (!event.currentTarget.disabled) {\n",
       "                return fig.toolbar_button_onmouseover(tooltip);\n",
       "            }\n",
       "        };\n",
       "    }\n",
       "\n",
       "    fig.buttons = {};\n",
       "    var buttonGroup = document.createElement('div');\n",
       "    buttonGroup.classList = 'mpl-button-group';\n",
       "    for (var toolbar_ind in mpl.toolbar_items) {\n",
       "        var name = mpl.toolbar_items[toolbar_ind][0];\n",
       "        var tooltip = mpl.toolbar_items[toolbar_ind][1];\n",
       "        var image = mpl.toolbar_items[toolbar_ind][2];\n",
       "        var method_name = mpl.toolbar_items[toolbar_ind][3];\n",
       "\n",
       "        if (!name) {\n",
       "            /* Instead of a spacer, we start a new button group. */\n",
       "            if (buttonGroup.hasChildNodes()) {\n",
       "                toolbar.appendChild(buttonGroup);\n",
       "            }\n",
       "            buttonGroup = document.createElement('div');\n",
       "            buttonGroup.classList = 'mpl-button-group';\n",
       "            continue;\n",
       "        }\n",
       "\n",
       "        var button = (fig.buttons[name] = document.createElement('button'));\n",
       "        button.classList = 'mpl-widget';\n",
       "        button.setAttribute('role', 'button');\n",
       "        button.setAttribute('aria-disabled', 'false');\n",
       "        button.addEventListener('click', on_click_closure(method_name));\n",
       "        button.addEventListener('mouseover', on_mouseover_closure(tooltip));\n",
       "\n",
       "        var icon_img = document.createElement('img');\n",
       "        icon_img.src = '_images/' + image + '.png';\n",
       "        icon_img.srcset = '_images/' + image + '_large.png 2x';\n",
       "        icon_img.alt = tooltip;\n",
       "        button.appendChild(icon_img);\n",
       "\n",
       "        buttonGroup.appendChild(button);\n",
       "    }\n",
       "\n",
       "    if (buttonGroup.hasChildNodes()) {\n",
       "        toolbar.appendChild(buttonGroup);\n",
       "    }\n",
       "\n",
       "    var fmt_picker = document.createElement('select');\n",
       "    fmt_picker.classList = 'mpl-widget';\n",
       "    toolbar.appendChild(fmt_picker);\n",
       "    this.format_dropdown = fmt_picker;\n",
       "\n",
       "    for (var ind in mpl.extensions) {\n",
       "        var fmt = mpl.extensions[ind];\n",
       "        var option = document.createElement('option');\n",
       "        option.selected = fmt === mpl.default_extension;\n",
       "        option.innerHTML = fmt;\n",
       "        fmt_picker.appendChild(option);\n",
       "    }\n",
       "\n",
       "    var status_bar = document.createElement('span');\n",
       "    status_bar.classList = 'mpl-message';\n",
       "    toolbar.appendChild(status_bar);\n",
       "    this.message = status_bar;\n",
       "};\n",
       "\n",
       "mpl.figure.prototype.request_resize = function (x_pixels, y_pixels) {\n",
       "    // Request matplotlib to resize the figure. Matplotlib will then trigger a resize in the client,\n",
       "    // which will in turn request a refresh of the image.\n",
       "    this.send_message('resize', { width: x_pixels, height: y_pixels });\n",
       "};\n",
       "\n",
       "mpl.figure.prototype.send_message = function (type, properties) {\n",
       "    properties['type'] = type;\n",
       "    properties['figure_id'] = this.id;\n",
       "    this.ws.send(JSON.stringify(properties));\n",
       "};\n",
       "\n",
       "mpl.figure.prototype.send_draw_message = function () {\n",
       "    if (!this.waiting) {\n",
       "        this.waiting = true;\n",
       "        this.ws.send(JSON.stringify({ type: 'draw', figure_id: this.id }));\n",
       "    }\n",
       "};\n",
       "\n",
       "mpl.figure.prototype.handle_save = function (fig, _msg) {\n",
       "    var format_dropdown = fig.format_dropdown;\n",
       "    var format = format_dropdown.options[format_dropdown.selectedIndex].value;\n",
       "    fig.ondownload(fig, format);\n",
       "};\n",
       "\n",
       "mpl.figure.prototype.handle_resize = function (fig, msg) {\n",
       "    var size = msg['size'];\n",
       "    if (size[0] !== fig.canvas.width || size[1] !== fig.canvas.height) {\n",
       "        fig._resize_canvas(size[0], size[1], msg['forward']);\n",
       "        fig.send_message('refresh', {});\n",
       "    }\n",
       "};\n",
       "\n",
       "mpl.figure.prototype.handle_rubberband = function (fig, msg) {\n",
       "    var x0 = msg['x0'] / fig.ratio;\n",
       "    var y0 = (fig.canvas.height - msg['y0']) / fig.ratio;\n",
       "    var x1 = msg['x1'] / fig.ratio;\n",
       "    var y1 = (fig.canvas.height - msg['y1']) / fig.ratio;\n",
       "    x0 = Math.floor(x0) + 0.5;\n",
       "    y0 = Math.floor(y0) + 0.5;\n",
       "    x1 = Math.floor(x1) + 0.5;\n",
       "    y1 = Math.floor(y1) + 0.5;\n",
       "    var min_x = Math.min(x0, x1);\n",
       "    var min_y = Math.min(y0, y1);\n",
       "    var width = Math.abs(x1 - x0);\n",
       "    var height = Math.abs(y1 - y0);\n",
       "\n",
       "    fig.rubberband_context.clearRect(\n",
       "        0,\n",
       "        0,\n",
       "        fig.canvas.width / fig.ratio,\n",
       "        fig.canvas.height / fig.ratio\n",
       "    );\n",
       "\n",
       "    fig.rubberband_context.strokeRect(min_x, min_y, width, height);\n",
       "};\n",
       "\n",
       "mpl.figure.prototype.handle_figure_label = function (fig, msg) {\n",
       "    // Updates the figure title.\n",
       "    fig.header.textContent = msg['label'];\n",
       "};\n",
       "\n",
       "mpl.figure.prototype.handle_cursor = function (fig, msg) {\n",
       "    var cursor = msg['cursor'];\n",
       "    switch (cursor) {\n",
       "        case 0:\n",
       "            cursor = 'pointer';\n",
       "            break;\n",
       "        case 1:\n",
       "            cursor = 'default';\n",
       "            break;\n",
       "        case 2:\n",
       "            cursor = 'crosshair';\n",
       "            break;\n",
       "        case 3:\n",
       "            cursor = 'move';\n",
       "            break;\n",
       "    }\n",
       "    fig.rubberband_canvas.style.cursor = cursor;\n",
       "};\n",
       "\n",
       "mpl.figure.prototype.handle_message = function (fig, msg) {\n",
       "    fig.message.textContent = msg['message'];\n",
       "};\n",
       "\n",
       "mpl.figure.prototype.handle_draw = function (fig, _msg) {\n",
       "    // Request the server to send over a new figure.\n",
       "    fig.send_draw_message();\n",
       "};\n",
       "\n",
       "mpl.figure.prototype.handle_image_mode = function (fig, msg) {\n",
       "    fig.image_mode = msg['mode'];\n",
       "};\n",
       "\n",
       "mpl.figure.prototype.handle_history_buttons = function (fig, msg) {\n",
       "    for (var key in msg) {\n",
       "        if (!(key in fig.buttons)) {\n",
       "            continue;\n",
       "        }\n",
       "        fig.buttons[key].disabled = !msg[key];\n",
       "        fig.buttons[key].setAttribute('aria-disabled', !msg[key]);\n",
       "    }\n",
       "};\n",
       "\n",
       "mpl.figure.prototype.handle_navigate_mode = function (fig, msg) {\n",
       "    if (msg['mode'] === 'PAN') {\n",
       "        fig.buttons['Pan'].classList.add('active');\n",
       "        fig.buttons['Zoom'].classList.remove('active');\n",
       "    } else if (msg['mode'] === 'ZOOM') {\n",
       "        fig.buttons['Pan'].classList.remove('active');\n",
       "        fig.buttons['Zoom'].classList.add('active');\n",
       "    } else {\n",
       "        fig.buttons['Pan'].classList.remove('active');\n",
       "        fig.buttons['Zoom'].classList.remove('active');\n",
       "    }\n",
       "};\n",
       "\n",
       "mpl.figure.prototype.updated_canvas_event = function () {\n",
       "    // Called whenever the canvas gets updated.\n",
       "    this.send_message('ack', {});\n",
       "};\n",
       "\n",
       "// A function to construct a web socket function for onmessage handling.\n",
       "// Called in the figure constructor.\n",
       "mpl.figure.prototype._make_on_message_function = function (fig) {\n",
       "    return function socket_on_message(evt) {\n",
       "        if (evt.data instanceof Blob) {\n",
       "            /* FIXME: We get \"Resource interpreted as Image but\n",
       "             * transferred with MIME type text/plain:\" errors on\n",
       "             * Chrome.  But how to set the MIME type?  It doesn't seem\n",
       "             * to be part of the websocket stream */\n",
       "            evt.data.type = 'image/png';\n",
       "\n",
       "            /* Free the memory for the previous frames */\n",
       "            if (fig.imageObj.src) {\n",
       "                (window.URL || window.webkitURL).revokeObjectURL(\n",
       "                    fig.imageObj.src\n",
       "                );\n",
       "            }\n",
       "\n",
       "            fig.imageObj.src = (window.URL || window.webkitURL).createObjectURL(\n",
       "                evt.data\n",
       "            );\n",
       "            fig.updated_canvas_event();\n",
       "            fig.waiting = false;\n",
       "            return;\n",
       "        } else if (\n",
       "            typeof evt.data === 'string' &&\n",
       "            evt.data.slice(0, 21) === 'data:image/png;base64'\n",
       "        ) {\n",
       "            fig.imageObj.src = evt.data;\n",
       "            fig.updated_canvas_event();\n",
       "            fig.waiting = false;\n",
       "            return;\n",
       "        }\n",
       "\n",
       "        var msg = JSON.parse(evt.data);\n",
       "        var msg_type = msg['type'];\n",
       "\n",
       "        // Call the  \"handle_{type}\" callback, which takes\n",
       "        // the figure and JSON message as its only arguments.\n",
       "        try {\n",
       "            var callback = fig['handle_' + msg_type];\n",
       "        } catch (e) {\n",
       "            console.log(\n",
       "                \"No handler for the '\" + msg_type + \"' message type: \",\n",
       "                msg\n",
       "            );\n",
       "            return;\n",
       "        }\n",
       "\n",
       "        if (callback) {\n",
       "            try {\n",
       "                // console.log(\"Handling '\" + msg_type + \"' message: \", msg);\n",
       "                callback(fig, msg);\n",
       "            } catch (e) {\n",
       "                console.log(\n",
       "                    \"Exception inside the 'handler_\" + msg_type + \"' callback:\",\n",
       "                    e,\n",
       "                    e.stack,\n",
       "                    msg\n",
       "                );\n",
       "            }\n",
       "        }\n",
       "    };\n",
       "};\n",
       "\n",
       "// from http://stackoverflow.com/questions/1114465/getting-mouse-location-in-canvas\n",
       "mpl.findpos = function (e) {\n",
       "    //this section is from http://www.quirksmode.org/js/events_properties.html\n",
       "    var targ;\n",
       "    if (!e) {\n",
       "        e = window.event;\n",
       "    }\n",
       "    if (e.target) {\n",
       "        targ = e.target;\n",
       "    } else if (e.srcElement) {\n",
       "        targ = e.srcElement;\n",
       "    }\n",
       "    if (targ.nodeType === 3) {\n",
       "        // defeat Safari bug\n",
       "        targ = targ.parentNode;\n",
       "    }\n",
       "\n",
       "    // pageX,Y are the mouse positions relative to the document\n",
       "    var boundingRect = targ.getBoundingClientRect();\n",
       "    var x = e.pageX - (boundingRect.left + document.body.scrollLeft);\n",
       "    var y = e.pageY - (boundingRect.top + document.body.scrollTop);\n",
       "\n",
       "    return { x: x, y: y };\n",
       "};\n",
       "\n",
       "/*\n",
       " * return a copy of an object with only non-object keys\n",
       " * we need this to avoid circular references\n",
       " * http://stackoverflow.com/a/24161582/3208463\n",
       " */\n",
       "function simpleKeys(original) {\n",
       "    return Object.keys(original).reduce(function (obj, key) {\n",
       "        if (typeof original[key] !== 'object') {\n",
       "            obj[key] = original[key];\n",
       "        }\n",
       "        return obj;\n",
       "    }, {});\n",
       "}\n",
       "\n",
       "mpl.figure.prototype.mouse_event = function (event, name) {\n",
       "    var canvas_pos = mpl.findpos(event);\n",
       "\n",
       "    if (name === 'button_press') {\n",
       "        this.canvas.focus();\n",
       "        this.canvas_div.focus();\n",
       "    }\n",
       "\n",
       "    var x = canvas_pos.x * this.ratio;\n",
       "    var y = canvas_pos.y * this.ratio;\n",
       "\n",
       "    this.send_message(name, {\n",
       "        x: x,\n",
       "        y: y,\n",
       "        button: event.button,\n",
       "        step: event.step,\n",
       "        guiEvent: simpleKeys(event),\n",
       "    });\n",
       "\n",
       "    /* This prevents the web browser from automatically changing to\n",
       "     * the text insertion cursor when the button is pressed.  We want\n",
       "     * to control all of the cursor setting manually through the\n",
       "     * 'cursor' event from matplotlib */\n",
       "    event.preventDefault();\n",
       "    return false;\n",
       "};\n",
       "\n",
       "mpl.figure.prototype._key_event_extra = function (_event, _name) {\n",
       "    // Handle any extra behaviour associated with a key event\n",
       "};\n",
       "\n",
       "mpl.figure.prototype.key_event = function (event, name) {\n",
       "    // Prevent repeat events\n",
       "    if (name === 'key_press') {\n",
       "        if (event.which === this._key) {\n",
       "            return;\n",
       "        } else {\n",
       "            this._key = event.which;\n",
       "        }\n",
       "    }\n",
       "    if (name === 'key_release') {\n",
       "        this._key = null;\n",
       "    }\n",
       "\n",
       "    var value = '';\n",
       "    if (event.ctrlKey && event.which !== 17) {\n",
       "        value += 'ctrl+';\n",
       "    }\n",
       "    if (event.altKey && event.which !== 18) {\n",
       "        value += 'alt+';\n",
       "    }\n",
       "    if (event.shiftKey && event.which !== 16) {\n",
       "        value += 'shift+';\n",
       "    }\n",
       "\n",
       "    value += 'k';\n",
       "    value += event.which.toString();\n",
       "\n",
       "    this._key_event_extra(event, name);\n",
       "\n",
       "    this.send_message(name, { key: value, guiEvent: simpleKeys(event) });\n",
       "    return false;\n",
       "};\n",
       "\n",
       "mpl.figure.prototype.toolbar_button_onclick = function (name) {\n",
       "    if (name === 'download') {\n",
       "        this.handle_save(this, null);\n",
       "    } else {\n",
       "        this.send_message('toolbar_button', { name: name });\n",
       "    }\n",
       "};\n",
       "\n",
       "mpl.figure.prototype.toolbar_button_onmouseover = function (tooltip) {\n",
       "    this.message.textContent = tooltip;\n",
       "};\n",
       "\n",
       "///////////////// REMAINING CONTENT GENERATED BY embed_js.py /////////////////\n",
       "// prettier-ignore\n",
       "var _JSXTOOLS_RESIZE_OBSERVER=function(A){var t,i=new WeakMap,n=new WeakMap,a=new WeakMap,r=new WeakMap,o=new Set;function s(e){if(!(this instanceof s))throw new TypeError(\"Constructor requires 'new' operator\");i.set(this,e)}function h(){throw new TypeError(\"Function is not a constructor\")}function c(e,t,i,n){e=0 in arguments?Number(arguments[0]):0,t=1 in arguments?Number(arguments[1]):0,i=2 in arguments?Number(arguments[2]):0,n=3 in arguments?Number(arguments[3]):0,this.right=(this.x=this.left=e)+(this.width=i),this.bottom=(this.y=this.top=t)+(this.height=n),Object.freeze(this)}function d(){t=requestAnimationFrame(d);var s=new WeakMap,p=new Set;o.forEach((function(t){r.get(t).forEach((function(i){var r=t instanceof window.SVGElement,o=a.get(t),d=r?0:parseFloat(o.paddingTop),f=r?0:parseFloat(o.paddingRight),l=r?0:parseFloat(o.paddingBottom),u=r?0:parseFloat(o.paddingLeft),g=r?0:parseFloat(o.borderTopWidth),m=r?0:parseFloat(o.borderRightWidth),w=r?0:parseFloat(o.borderBottomWidth),b=u+f,F=d+l,v=(r?0:parseFloat(o.borderLeftWidth))+m,W=g+w,y=r?0:t.offsetHeight-W-t.clientHeight,E=r?0:t.offsetWidth-v-t.clientWidth,R=b+v,z=F+W,M=r?t.width:parseFloat(o.width)-R-E,O=r?t.height:parseFloat(o.height)-z-y;if(n.has(t)){var k=n.get(t);if(k[0]===M&&k[1]===O)return}n.set(t,[M,O]);var S=Object.create(h.prototype);S.target=t,S.contentRect=new c(u,d,M,O),s.has(i)||(s.set(i,[]),p.add(i)),s.get(i).push(S)}))})),p.forEach((function(e){i.get(e).call(e,s.get(e),e)}))}return s.prototype.observe=function(i){if(i instanceof window.Element){r.has(i)||(r.set(i,new Set),o.add(i),a.set(i,window.getComputedStyle(i)));var n=r.get(i);n.has(this)||n.add(this),cancelAnimationFrame(t),t=requestAnimationFrame(d)}},s.prototype.unobserve=function(i){if(i instanceof window.Element&&r.has(i)){var n=r.get(i);n.has(this)&&(n.delete(this),n.size||(r.delete(i),o.delete(i))),n.size||r.delete(i),o.size||cancelAnimationFrame(t)}},A.DOMRectReadOnly=c,A.ResizeObserver=s,A.ResizeObserverEntry=h,A}; // eslint-disable-line\n",
       "mpl.toolbar_items = [[\"Home\", \"Reset original view\", \"fa fa-home icon-home\", \"home\"], [\"Back\", \"Back to previous view\", \"fa fa-arrow-left icon-arrow-left\", \"back\"], [\"Forward\", \"Forward to next view\", \"fa fa-arrow-right icon-arrow-right\", \"forward\"], [\"\", \"\", \"\", \"\"], [\"Pan\", \"Left button pans, Right button zooms\\nx/y fixes axis, CTRL fixes aspect\", \"fa fa-arrows icon-move\", \"pan\"], [\"Zoom\", \"Zoom to rectangle\\nx/y fixes axis, CTRL fixes aspect\", \"fa fa-square-o icon-check-empty\", \"zoom\"], [\"\", \"\", \"\", \"\"], [\"Download\", \"Download plot\", \"fa fa-floppy-o icon-save\", \"download\"]];\n",
       "\n",
       "mpl.extensions = [\"eps\", \"jpeg\", \"pdf\", \"png\", \"ps\", \"raw\", \"svg\", \"tif\"];\n",
       "\n",
       "mpl.default_extension = \"png\";/* global mpl */\n",
       "\n",
       "var comm_websocket_adapter = function (comm) {\n",
       "    // Create a \"websocket\"-like object which calls the given IPython comm\n",
       "    // object with the appropriate methods. Currently this is a non binary\n",
       "    // socket, so there is still some room for performance tuning.\n",
       "    var ws = {};\n",
       "\n",
       "    ws.close = function () {\n",
       "        comm.close();\n",
       "    };\n",
       "    ws.send = function (m) {\n",
       "        //console.log('sending', m);\n",
       "        comm.send(m);\n",
       "    };\n",
       "    // Register the callback with on_msg.\n",
       "    comm.on_msg(function (msg) {\n",
       "        //console.log('receiving', msg['content']['data'], msg);\n",
       "        // Pass the mpl event to the overridden (by mpl) onmessage function.\n",
       "        ws.onmessage(msg['content']['data']);\n",
       "    });\n",
       "    return ws;\n",
       "};\n",
       "\n",
       "mpl.mpl_figure_comm = function (comm, msg) {\n",
       "    // This is the function which gets called when the mpl process\n",
       "    // starts-up an IPython Comm through the \"matplotlib\" channel.\n",
       "\n",
       "    var id = msg.content.data.id;\n",
       "    // Get hold of the div created by the display call when the Comm\n",
       "    // socket was opened in Python.\n",
       "    var element = document.getElementById(id);\n",
       "    var ws_proxy = comm_websocket_adapter(comm);\n",
       "\n",
       "    function ondownload(figure, _format) {\n",
       "        window.open(figure.canvas.toDataURL());\n",
       "    }\n",
       "\n",
       "    var fig = new mpl.figure(id, ws_proxy, ondownload, element);\n",
       "\n",
       "    // Call onopen now - mpl needs it, as it is assuming we've passed it a real\n",
       "    // web socket which is closed, not our websocket->open comm proxy.\n",
       "    ws_proxy.onopen();\n",
       "\n",
       "    fig.parent_element = element;\n",
       "    fig.cell_info = mpl.find_output_cell(\"<div id='\" + id + \"'></div>\");\n",
       "    if (!fig.cell_info) {\n",
       "        console.error('Failed to find cell for figure', id, fig);\n",
       "        return;\n",
       "    }\n",
       "    fig.cell_info[0].output_area.element.on(\n",
       "        'cleared',\n",
       "        { fig: fig },\n",
       "        fig._remove_fig_handler\n",
       "    );\n",
       "};\n",
       "\n",
       "mpl.figure.prototype.handle_close = function (fig, msg) {\n",
       "    var width = fig.canvas.width / fig.ratio;\n",
       "    fig.cell_info[0].output_area.element.off(\n",
       "        'cleared',\n",
       "        fig._remove_fig_handler\n",
       "    );\n",
       "    fig.resizeObserverInstance.unobserve(fig.canvas_div);\n",
       "\n",
       "    // Update the output cell to use the data from the current canvas.\n",
       "    fig.push_to_output();\n",
       "    var dataURL = fig.canvas.toDataURL();\n",
       "    // Re-enable the keyboard manager in IPython - without this line, in FF,\n",
       "    // the notebook keyboard shortcuts fail.\n",
       "    IPython.keyboard_manager.enable();\n",
       "    fig.parent_element.innerHTML =\n",
       "        '<img src=\"' + dataURL + '\" width=\"' + width + '\">';\n",
       "    fig.close_ws(fig, msg);\n",
       "};\n",
       "\n",
       "mpl.figure.prototype.close_ws = function (fig, msg) {\n",
       "    fig.send_message('closing', msg);\n",
       "    // fig.ws.close()\n",
       "};\n",
       "\n",
       "mpl.figure.prototype.push_to_output = function (_remove_interactive) {\n",
       "    // Turn the data on the canvas into data in the output cell.\n",
       "    var width = this.canvas.width / this.ratio;\n",
       "    var dataURL = this.canvas.toDataURL();\n",
       "    this.cell_info[1]['text/html'] =\n",
       "        '<img src=\"' + dataURL + '\" width=\"' + width + '\">';\n",
       "};\n",
       "\n",
       "mpl.figure.prototype.updated_canvas_event = function () {\n",
       "    // Tell IPython that the notebook contents must change.\n",
       "    IPython.notebook.set_dirty(true);\n",
       "    this.send_message('ack', {});\n",
       "    var fig = this;\n",
       "    // Wait a second, then push the new image to the DOM so\n",
       "    // that it is saved nicely (might be nice to debounce this).\n",
       "    setTimeout(function () {\n",
       "        fig.push_to_output();\n",
       "    }, 1000);\n",
       "};\n",
       "\n",
       "mpl.figure.prototype._init_toolbar = function () {\n",
       "    var fig = this;\n",
       "\n",
       "    var toolbar = document.createElement('div');\n",
       "    toolbar.classList = 'btn-toolbar';\n",
       "    this.root.appendChild(toolbar);\n",
       "\n",
       "    function on_click_closure(name) {\n",
       "        return function (_event) {\n",
       "            return fig.toolbar_button_onclick(name);\n",
       "        };\n",
       "    }\n",
       "\n",
       "    function on_mouseover_closure(tooltip) {\n",
       "        return function (event) {\n",
       "            if (!event.currentTarget.disabled) {\n",
       "                return fig.toolbar_button_onmouseover(tooltip);\n",
       "            }\n",
       "        };\n",
       "    }\n",
       "\n",
       "    fig.buttons = {};\n",
       "    var buttonGroup = document.createElement('div');\n",
       "    buttonGroup.classList = 'btn-group';\n",
       "    var button;\n",
       "    for (var toolbar_ind in mpl.toolbar_items) {\n",
       "        var name = mpl.toolbar_items[toolbar_ind][0];\n",
       "        var tooltip = mpl.toolbar_items[toolbar_ind][1];\n",
       "        var image = mpl.toolbar_items[toolbar_ind][2];\n",
       "        var method_name = mpl.toolbar_items[toolbar_ind][3];\n",
       "\n",
       "        if (!name) {\n",
       "            /* Instead of a spacer, we start a new button group. */\n",
       "            if (buttonGroup.hasChildNodes()) {\n",
       "                toolbar.appendChild(buttonGroup);\n",
       "            }\n",
       "            buttonGroup = document.createElement('div');\n",
       "            buttonGroup.classList = 'btn-group';\n",
       "            continue;\n",
       "        }\n",
       "\n",
       "        button = fig.buttons[name] = document.createElement('button');\n",
       "        button.classList = 'btn btn-default';\n",
       "        button.href = '#';\n",
       "        button.title = name;\n",
       "        button.innerHTML = '<i class=\"fa ' + image + ' fa-lg\"></i>';\n",
       "        button.addEventListener('click', on_click_closure(method_name));\n",
       "        button.addEventListener('mouseover', on_mouseover_closure(tooltip));\n",
       "        buttonGroup.appendChild(button);\n",
       "    }\n",
       "\n",
       "    if (buttonGroup.hasChildNodes()) {\n",
       "        toolbar.appendChild(buttonGroup);\n",
       "    }\n",
       "\n",
       "    // Add the status bar.\n",
       "    var status_bar = document.createElement('span');\n",
       "    status_bar.classList = 'mpl-message pull-right';\n",
       "    toolbar.appendChild(status_bar);\n",
       "    this.message = status_bar;\n",
       "\n",
       "    // Add the close button to the window.\n",
       "    var buttongrp = document.createElement('div');\n",
       "    buttongrp.classList = 'btn-group inline pull-right';\n",
       "    button = document.createElement('button');\n",
       "    button.classList = 'btn btn-mini btn-primary';\n",
       "    button.href = '#';\n",
       "    button.title = 'Stop Interaction';\n",
       "    button.innerHTML = '<i class=\"fa fa-power-off icon-remove icon-large\"></i>';\n",
       "    button.addEventListener('click', function (_evt) {\n",
       "        fig.handle_close(fig, {});\n",
       "    });\n",
       "    button.addEventListener(\n",
       "        'mouseover',\n",
       "        on_mouseover_closure('Stop Interaction')\n",
       "    );\n",
       "    buttongrp.appendChild(button);\n",
       "    var titlebar = this.root.querySelector('.ui-dialog-titlebar');\n",
       "    titlebar.insertBefore(buttongrp, titlebar.firstChild);\n",
       "};\n",
       "\n",
       "mpl.figure.prototype._remove_fig_handler = function (event) {\n",
       "    var fig = event.data.fig;\n",
       "    if (event.target !== this) {\n",
       "        // Ignore bubbled events from children.\n",
       "        return;\n",
       "    }\n",
       "    fig.close_ws(fig, {});\n",
       "};\n",
       "\n",
       "mpl.figure.prototype._root_extra_style = function (el) {\n",
       "    el.style.boxSizing = 'content-box'; // override notebook setting of border-box.\n",
       "};\n",
       "\n",
       "mpl.figure.prototype._canvas_extra_style = function (el) {\n",
       "    // this is important to make the div 'focusable\n",
       "    el.setAttribute('tabindex', 0);\n",
       "    // reach out to IPython and tell the keyboard manager to turn it's self\n",
       "    // off when our div gets focus\n",
       "\n",
       "    // location in version 3\n",
       "    if (IPython.notebook.keyboard_manager) {\n",
       "        IPython.notebook.keyboard_manager.register_events(el);\n",
       "    } else {\n",
       "        // location in version 2\n",
       "        IPython.keyboard_manager.register_events(el);\n",
       "    }\n",
       "};\n",
       "\n",
       "mpl.figure.prototype._key_event_extra = function (event, _name) {\n",
       "    var manager = IPython.notebook.keyboard_manager;\n",
       "    if (!manager) {\n",
       "        manager = IPython.keyboard_manager;\n",
       "    }\n",
       "\n",
       "    // Check for shift+enter\n",
       "    if (event.shiftKey && event.which === 13) {\n",
       "        this.canvas_div.blur();\n",
       "        // select the cell after this one\n",
       "        var index = IPython.notebook.find_cell_index(this.cell_info[0]);\n",
       "        IPython.notebook.select(index + 1);\n",
       "    }\n",
       "};\n",
       "\n",
       "mpl.figure.prototype.handle_save = function (fig, _msg) {\n",
       "    fig.ondownload(fig, null);\n",
       "};\n",
       "\n",
       "mpl.find_output_cell = function (html_output) {\n",
       "    // Return the cell and output element which can be found *uniquely* in the notebook.\n",
       "    // Note - this is a bit hacky, but it is done because the \"notebook_saving.Notebook\"\n",
       "    // IPython event is triggered only after the cells have been serialised, which for\n",
       "    // our purposes (turning an active figure into a static one), is too late.\n",
       "    var cells = IPython.notebook.get_cells();\n",
       "    var ncells = cells.length;\n",
       "    for (var i = 0; i < ncells; i++) {\n",
       "        var cell = cells[i];\n",
       "        if (cell.cell_type === 'code') {\n",
       "            for (var j = 0; j < cell.output_area.outputs.length; j++) {\n",
       "                var data = cell.output_area.outputs[j];\n",
       "                if (data.data) {\n",
       "                    // IPython >= 3 moved mimebundle to data attribute of output\n",
       "                    data = data.data;\n",
       "                }\n",
       "                if (data['text/html'] === html_output) {\n",
       "                    return [cell, data, j];\n",
       "                }\n",
       "            }\n",
       "        }\n",
       "    }\n",
       "};\n",
       "\n",
       "// Register the function which deals with the matplotlib target/channel.\n",
       "// The kernel may be null if the page has been refreshed.\n",
       "if (IPython.notebook.kernel !== null) {\n",
       "    IPython.notebook.kernel.comm_manager.register_target(\n",
       "        'matplotlib',\n",
       "        mpl.mpl_figure_comm\n",
       "    );\n",
       "}\n"
      ],
      "text/plain": [
       "<IPython.core.display.Javascript object>"
      ]
     },
     "metadata": {},
     "output_type": "display_data"
    },
    {
     "data": {
      "text/html": [
       "<img src=\"data:image/png;base64,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\" width=\"640\">"
      ],
      "text/plain": [
       "<IPython.core.display.HTML object>"
      ]
     },
     "metadata": {},
     "output_type": "display_data"
    },
    {
     "data": {
      "text/plain": [
       "[<matplotlib.lines.Line2D at 0x7f359b6b03a0>]"
      ]
     },
     "execution_count": 53,
     "metadata": {},
     "output_type": "execute_result"
    }
   ],
   "source": [
    "plt.plot([1, 2, 3, 2, 1, 2, 3, 2, 1, 2, 3])"
   ]
  },
  {
   "cell_type": "markdown",
   "metadata": {},
   "source": [
    "But you should never create a plot that doesn't have labels on the x and y axises, and should always have a title. Read the documentation on matplotlib and add labels and a title to the plot above:\n",
    "\n",
    "http://matplotlib.org/api/pyplot_api.html\n",
    "\n",
    "Another commonly used library (especially with matplotlib is numpy). Often imported as:"
   ]
  },
  {
   "cell_type": "markdown",
   "metadata": {},
   "source": [
    "## 2.6 Closures"
   ]
  },
  {
   "cell_type": "markdown",
   "metadata": {},
   "source": [
    "Are functions that capture some of the local bindings to variables."
   ]
  },
  {
   "cell_type": "code",
   "execution_count": 52,
   "metadata": {},
   "outputs": [],
   "source": [
    "def return_a_closure():\n",
    "    dict = {}\n",
    "    def hidden(operator, value, other=None):\n",
    "        if operator == \"add\":\n",
    "            dict[value] = other\n",
    "        else:\n",
    "            return dict[value]\n",
    "    return hidden"
   ]
  },
  {
   "cell_type": "code",
   "execution_count": null,
   "metadata": {
    "collapsed": true
   },
   "outputs": [],
   "source": [
    "thing = return_a_closure()"
   ]
  },
  {
   "cell_type": "code",
   "execution_count": null,
   "metadata": {
    "collapsed": true
   },
   "outputs": [],
   "source": [
    "thing(\"add\", \"apple\", 42)"
   ]
  },
  {
   "cell_type": "code",
   "execution_count": null,
   "metadata": {},
   "outputs": [],
   "source": [
    "thing(\"get\", \"apple\")"
   ]
  },
  {
   "cell_type": "code",
   "execution_count": null,
   "metadata": {},
   "outputs": [],
   "source": [
    "thing.dict"
   ]
  },
  {
   "cell_type": "markdown",
   "metadata": {},
   "source": [
    "Where is dict?\n",
    "\n",
    "See http://www.programiz.com/python-programming/closure for more examples."
   ]
  },
  {
   "cell_type": "markdown",
   "metadata": {},
   "source": [
    "<H1>References</H1>\n",
    "\n",
    "[1] https://en.wikipedia.org/wiki/History_of_Python"
   ]
  }
 ],
 "metadata": {
  "kernelspec": {
   "display_name": "Python 3",
   "language": "python",
   "name": "python3"
  },
  "language_info": {
   "codemirror_mode": {
    "name": "ipython",
    "version": 3
   },
   "file_extension": ".py",
   "mimetype": "text/x-python",
   "name": "python",
   "nbconvert_exporter": "python",
   "pygments_lexer": "ipython3",
   "version": "3.8.8"
  }
 },
 "nbformat": 4,
 "nbformat_minor": 1
}
