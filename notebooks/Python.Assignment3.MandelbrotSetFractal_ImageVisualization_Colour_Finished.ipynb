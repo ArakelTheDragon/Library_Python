{
 "cells": [
  {
   "cell_type": "code",
   "execution_count": 14,
   "id": "635f1371",
   "metadata": {
    "scrolled": true
   },
   "outputs": [],
   "source": [
    "# Description:\n",
    "# To iterate (z on the power of 2) + c we begin with a seed for the iteration. This is a real or complex number\n",
    "# which we denote by z0. Applying the function (z on the power of 2) + c on z0, gives the new number.\n",
    "# Now we iterate using the result of the previous computation as the input for the next.\n",
    "# z0 = 0(this is the seed)\n",
    "# z1 = (z0 on the power of 2) + c\n",
    "# z2 = (z1 on the power of 2) + c\n",
    "# and so on.\n",
    "# if we take 0 for the seed, z0 = 0\n",
    "# z1 = (0 on the power of 2) + 1 = 1\n",
    "# z2 = (1 on the power of 2) + 1 = 2\n",
    "# and so on\n",
    "import os, json, yaml, math\n",
    "import pandas as pd\n",
    "import numpy as np\n",
    "import matplotlib .pyplot as plt\n",
    "from PIL import Image"
   ]
  },
  {
   "cell_type": "code",
   "execution_count": 26,
   "id": "cce9ba83",
   "metadata": {},
   "outputs": [],
   "source": [
    "def create_mandelbrot_image(image_width, image_height, border, background_color, circle_color):\n",
    "    img = Image.new('RGBA', (image_width, image_height), color = background_color)\n",
    "    new_pixel_map = img.load()\n",
    "    \n",
    "    for i in range (image_height):\n",
    "        y = 2*i/image_height - 1.0\n",
    "        for j in range (image_width):\n",
    "            x = 2*j/image_width - 1.0\n",
    "            \n",
    "            g = compute_mandelbrot_value(x, y, iterations=200)\n",
    "            \n",
    "            color = (g, g, g)\n",
    "            new_pixel_map[j, i] = color\n",
    "        \n",
    "    return img\n",
    "\n",
    "def cmplx(real, im):                              # There is no function in cmath to do this\n",
    "    return (real, im)\n",
    "\n",
    "def cmplx_add(c1, c2):\n",
    "    print (c1 + c2)\n",
    "    return (c1[0]+c1[1],c1[1]+c2[1])\n",
    "\n",
    "def cmplx_abs(c): \n",
    "    return math.sqrt(c[0]*c[0] + c[1]*c[1])\n",
    "\n",
    "def cmplx_square(c):\n",
    "    return cmplx_mult(c, c)\n",
    "\n",
    "def cmplx_mult(c1, c2):\n",
    "    a, b = c1\n",
    "    c, d = c2\n",
    "    return cmplx(a*c-b*d, a*d+b*c)\n",
    "\n",
    "# this will return number between 0 and 255 (shade of grey)\n",
    "def compute_mandelbrot_value(x, y, iterations=200):\n",
    "    g = 255 * compute_mandelbrot_iterations_native(x, y, iterations=iterations) / iterations \n",
    "    return int(g)\n",
    "\n",
    "# this will return number from 0 to n_iterations\n",
    "def compute_mandelbrot_iterations(x, y, iterations=200):\n",
    "    z = cmplx(0, 0)\n",
    "    c = cmplx(x, y)\n",
    "    for j in range(iterations):\n",
    "        z = cmplx_add(cmplx_square(z), c)\n",
    "        if cmplx_abs(z) > 2.0:\n",
    "            # print(\"Break!\", x, y, cmplx_abs(c), j)\n",
    "            return j\n",
    "    return iterations\n",
    "\n",
    "\n",
    "# this will return number from 0 to n_iterations\n",
    "def compute_mandelbrot_iterations_native(x, y, iterations=200):\n",
    "    z = complex(0)\n",
    "    c = complex(x, y)\n",
    "    for j in range(iterations):\n",
    "        z = z*z + c\n",
    "        if abs(z) > 2.0:\n",
    "            # print(\"Break!\", x, y, cmplx_abs(c), j)\n",
    "            return j\n",
    "    return iterations\n",
    "\n",
    "\n",
    "\n",
    "#img = create_mandelbrot_image(500, 500, 30, \"cyan\", \"red\")\n",
    "#img\n",
    "\n",
    "#Homework test_cmplx()\n",
    " "
   ]
  },
  {
   "cell_type": "code",
   "execution_count": 25,
   "id": "7191b23a",
   "metadata": {},
   "outputs": [
    {
     "ename": "SyntaxError",
     "evalue": "invalid syntax (<ipython-input-25-1032f1ba612d>, line 1)",
     "output_type": "error",
     "traceback": [
      "\u001b[0;36m  File \u001b[0;32m\"<ipython-input-25-1032f1ba612d>\"\u001b[0;36m, line \u001b[0;32m1\u001b[0m\n\u001b[0;31m    c1 = (2+3i)\u001b[0m\n\u001b[0m             ^\u001b[0m\n\u001b[0;31mSyntaxError\u001b[0m\u001b[0;31m:\u001b[0m invalid syntax\n"
     ]
    }
   ],
   "source": [
    "c1 = (2+3i)\n",
    "c2 = (3+4i)\n",
    "cmplx_add(c1.real, c1.imag)"
   ]
  },
  {
   "cell_type": "code",
   "execution_count": null,
   "id": "051d1e4b",
   "metadata": {},
   "outputs": [],
   "source": []
  },
  {
   "cell_type": "code",
   "execution_count": null,
   "id": "aa33a49d",
   "metadata": {},
   "outputs": [],
   "source": []
  },
  {
   "cell_type": "code",
   "execution_count": null,
   "id": "a6f0a82e",
   "metadata": {},
   "outputs": [],
   "source": []
  }
 ],
 "metadata": {
  "kernelspec": {
   "display_name": "Python 3",
   "language": "python",
   "name": "python3"
  },
  "language_info": {
   "codemirror_mode": {
    "name": "ipython",
    "version": 3
   },
   "file_extension": ".py",
   "mimetype": "text/x-python",
   "name": "python",
   "nbconvert_exporter": "python",
   "pygments_lexer": "ipython3",
   "version": "3.8.10"
  }
 },
 "nbformat": 4,
 "nbformat_minor": 5
}
